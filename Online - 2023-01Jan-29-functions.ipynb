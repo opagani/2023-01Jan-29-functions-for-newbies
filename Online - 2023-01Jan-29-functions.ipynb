{
 "cells": [
  {
   "cell_type": "markdown",
   "metadata": {},
   "source": [
    "# Agenda\n",
    "\n",
    "1. What are functions?\n",
    "    - Function objects\n",
    "    - Defined functions vs. execution of functions\n",
    "2. Writing simple functions\n",
    "3. Arguments and parameters\n",
    "    - What are they?\n",
    "    - How are arguments mapped to parameters?\n",
    "    - Positional arguments\n",
    "    - Keyword arguments\n",
    "4. Return values\n",
    "    - Returning simple values\n",
    "    - Returning complex values\n",
    "5. Default argument values\n",
    "    - How this works\n",
    "    - What to watch out for\n",
    "    - When would you want to use this \n",
    "    - When does Python use this?\n",
    "6. `*args`  (pronounced \"splat args\")\n",
    "    - What does it do?\n",
    "    - Why do we need it?\n",
    "    - How can we use it?\n",
    "7. `**kwargs` (pronounced \"double splat kwargs\")\n",
    "    - What does it do?\n",
    "    - Why do we need it?\n",
    "    - How can we use it?\n",
    "8. Local variables\n",
    "    - Locals vs. globals\n",
    "    - The `global` declaration (and why it's horrible)\n",
    "    - LEGB rule for scoping\n",
    "    - Locals vs. globals vs. builtins"
   ]
  },
  {
   "cell_type": "markdown",
   "metadata": {},
   "source": [
    "# What are functions?\n",
    "\n",
    "Functions are the verbs in a programming language.\n",
    "\n",
    "Every programming language comes with a bunch of functions.\n",
    "\n",
    "- `len`\n",
    "- `print`\n",
    "- `input`\n",
    "\n",
    "All of these are predefined functions that do things.  But what if we want to define our own function?\n",
    "\n",
    "Do we need functions?  We don't **need** functions, but we really want them.  Why?\n",
    "\n",
    "1. They let us \"DRY up\" our code, so that we don't repeat ourselves.\n",
    "2. They let us think at a higher level of abstraction."
   ]
  },
  {
   "cell_type": "markdown",
   "metadata": {},
   "source": [
    "# How do I define a function?\n",
    "\n",
    "Defining a function means: Teaching Python a new verb.  We do this in terms of other verbs that were already defined.\n",
    "\n",
    "We do this with the `def` keyword. The syntax looks like this:\n",
    "\n",
    "```python\n",
    "def NAME():\n",
    "    BODY_LINE_1\n",
    "    BODY_LINE_2\n",
    "    BODY_LINE_3\n",
    "```\n",
    "\n",
    "The name of a function can be any legal \"identifier\" name in Python -- any number of letters, numbers, and `_` characters, but the name cannot start with a number, and shouldn't start with an `_`.\n",
    "\n",
    "You must have parentheses after the function name; we'll fill those in later, but for now, they'll be blank.\n",
    "\n",
    "Then we have a colon, followed by any number of indented lines.\n",
    "\n",
    "The indented lines are the \"body\" of the function.  They can have any number of characters, we can have any number of lines, and the function body can contain just about any Python code you want -- including `if`, `for`, `open`, etc.\n",
    "\n",
    "When I define a function, I'm teaching Python a new verb. But I'm not actually *executing* or *running* the function just yet. I'm just defining it."
   ]
  },
  {
   "cell_type": "code",
   "execution_count": 1,
   "metadata": {},
   "outputs": [],
   "source": [
    "def hello():          # def + function name + () + :\n",
    "    print('Hello!')   # function body will print \"Hello!\" on the screen"
   ]
  },
  {
   "cell_type": "code",
   "execution_count": 2,
   "metadata": {},
   "outputs": [
    {
     "data": {
      "text/plain": [
       "function"
      ]
     },
     "execution_count": 2,
     "metadata": {},
     "output_type": "execute_result"
    }
   ],
   "source": [
    "# I can check to see if Python knows that \"hello\" is defined, and that it's a function\n",
    "\n",
    "type(hello)   "
   ]
  },
  {
   "cell_type": "code",
   "execution_count": 3,
   "metadata": {},
   "outputs": [
    {
     "data": {
      "text/plain": [
       "int"
      ]
     },
     "execution_count": 3,
     "metadata": {},
     "output_type": "execute_result"
    }
   ],
   "source": [
    "type(5)"
   ]
  },
  {
   "cell_type": "code",
   "execution_count": 4,
   "metadata": {},
   "outputs": [
    {
     "data": {
      "text/plain": [
       "str"
      ]
     },
     "execution_count": 4,
     "metadata": {},
     "output_type": "execute_result"
    }
   ],
   "source": [
    "type('abcd')"
   ]
  },
  {
   "cell_type": "markdown",
   "metadata": {},
   "source": [
    "# Functions are nouns, not just verbs\n",
    "\n",
    "One of the biggest things to understand in Python is that functions are nouns (data), not just verbs.\n",
    "\n",
    "They are assigned to variables, just like other data can be.\n",
    "\n",
    "When we say\n",
    "\n",
    "    x = 5\n",
    "    \n",
    "we're assigning the integer 5 to the variable `x`. And when we use `def` to define a function, we're assigning a \"function object\" to the variable `hello`.\n",
    "\n",
    "Who cares? Why do we need to think about function objects?\n",
    "\n",
    "A few reasons:\n",
    "\n",
    "1. If you use a variable name for a function, then you cannot use it for data, and vice versa.\n",
    "2. The rules for variable scoping (which we'll talk about later) are exactly the same for function scoping.\n",
    "3. We can pass functions around, as if they were data.\n",
    "4. *MOST IMPORTANT* when we define a function, we're defining the blueprint for what we want to happen when we execute it. The actual execution takes that blueprint, and then runs the code in a separate place. Every time we run a function, that happens inside of a special place in memory."
   ]
  },
  {
   "cell_type": "code",
   "execution_count": 7,
   "metadata": {},
   "outputs": [
    {
     "name": "stdout",
     "output_type": "stream",
     "text": [
      "<class 'function'>\n"
     ]
    }
   ],
   "source": [
    "def hello():\n",
    "    print('hello!')\n",
    "\n",
    "print(type(hello))"
   ]
  },
  {
   "cell_type": "code",
   "execution_count": 6,
   "metadata": {},
   "outputs": [],
   "source": [
    "# In PyCharm (or another non-Jupyter editor), you'll need to run the code that you wrote\n",
    "# Usually,  you can do that by pressing on the green triangle at the top of the screen\n",
    "\n",
    "# But... you'll likely get no output, even if it runs, because you didn't use print\n",
    "# In Jupyter, it automatically displays the output from \"type\" or anything else"
   ]
  },
  {
   "cell_type": "code",
   "execution_count": 8,
   "metadata": {},
   "outputs": [],
   "source": [
    "def hello5():\n",
    "    for i in range(5):\n",
    "        print('hello!')"
   ]
  },
  {
   "cell_type": "code",
   "execution_count": 9,
   "metadata": {},
   "outputs": [
    {
     "name": "stdout",
     "output_type": "stream",
     "text": [
      "hello!\n"
     ]
    }
   ],
   "source": [
    "# to run the function, I'm going to name the function and put () after it\n",
    "\n",
    "hello()      # () in this context mean: run the function named just before"
   ]
  },
  {
   "cell_type": "code",
   "execution_count": 10,
   "metadata": {},
   "outputs": [
    {
     "name": "stdout",
     "output_type": "stream",
     "text": [
      "hello!\n",
      "hello!\n",
      "hello!\n",
      "hello!\n",
      "hello!\n"
     ]
    }
   ],
   "source": [
    "hello5()"
   ]
  },
  {
   "cell_type": "code",
   "execution_count": 11,
   "metadata": {},
   "outputs": [
    {
     "name": "stdout",
     "output_type": "stream",
     "text": [
      "hello!\n",
      "hello!\n",
      "hello!\n"
     ]
    }
   ],
   "source": [
    "# I can also say:\n",
    "\n",
    "for i in range(3):\n",
    "    hello()"
   ]
  },
  {
   "cell_type": "markdown",
   "metadata": {},
   "source": [
    "# Exercise: First and last names\n",
    "\n",
    "1. Write a function, `greet`, that when run, asks the user to enter their first name and (separately) their last name.\n",
    "2. Each of these should be assigned to a different variable. You can get input from the user (as a string) via the `input` function.\n",
    "3. Print a nice greeting, along with the user's name.\n",
    "\n",
    "Some hints:\n",
    "1. Use `input` to get input from the user, as in: `name = input('Enter your name: ')`\n",
    "2. You can print things inside of an f-string, as in: `print(f'x = {x}')`"
   ]
  },
  {
   "cell_type": "code",
   "execution_count": 12,
   "metadata": {},
   "outputs": [
    {
     "name": "stdout",
     "output_type": "stream",
     "text": [
      "Enter your name: Reuven\n"
     ]
    }
   ],
   "source": [
    "name = input('Enter your name: ')"
   ]
  },
  {
   "cell_type": "code",
   "execution_count": 14,
   "metadata": {},
   "outputs": [
    {
     "name": "stdout",
     "output_type": "stream",
     "text": [
      "Reuven\n"
     ]
    }
   ],
   "source": [
    "print(name)   # the variable name has been assigned whatever the user typed (as a string)"
   ]
  },
  {
   "cell_type": "code",
   "execution_count": 15,
   "metadata": {},
   "outputs": [],
   "source": [
    "def greet():          # new function with \"def\", it's called \"greet\"\n",
    "    first_name = input('Enter first name: ').strip()    # get the first name, remove outer whitespace, assign\n",
    "    last_name = input('Enter last name: ').strip()      # get the first name, remove outer whitespace, assign\n",
    "    \n",
    "    print(f'Hello, {first_name} {last_name}!')\n",
    "    "
   ]
  },
  {
   "cell_type": "code",
   "execution_count": 16,
   "metadata": {},
   "outputs": [
    {
     "name": "stdout",
     "output_type": "stream",
     "text": [
      "Enter first name: Reuven\n",
      "Enter last name: Lerner\n",
      "Hello, Reuven Lerner!\n"
     ]
    }
   ],
   "source": [
    "greet()   # this executes the function "
   ]
  },
  {
   "cell_type": "code",
   "execution_count": 17,
   "metadata": {},
   "outputs": [],
   "source": [
    "def greet():\n",
    "    first_name = input('Enter First Name:').strip()\n",
    "    last_name = input('Enter Last Name:').strip()\n",
    "    print(f'Hello, {first_name} {last_name}!')"
   ]
  },
  {
   "cell_type": "code",
   "execution_count": null,
   "metadata": {},
   "outputs": [],
   "source": [
    "greet()"
   ]
  },
  {
   "cell_type": "code",
   "execution_count": null,
   "metadata": {},
   "outputs": [],
   "source": []
  }
 ],
 "metadata": {
  "kernelspec": {
   "display_name": "Python 3 (ipykernel)",
   "language": "python",
   "name": "python3"
  },
  "language_info": {
   "codemirror_mode": {
    "name": "ipython",
    "version": 3
   },
   "file_extension": ".py",
   "mimetype": "text/x-python",
   "name": "python",
   "nbconvert_exporter": "python",
   "pygments_lexer": "ipython3",
   "version": "3.11.1"
  }
 },
 "nbformat": 4,
 "nbformat_minor": 4
}
