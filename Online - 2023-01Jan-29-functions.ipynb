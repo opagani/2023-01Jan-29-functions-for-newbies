{
 "cells": [
  {
   "cell_type": "markdown",
   "metadata": {},
   "source": [
    "# Agenda\n",
    "\n",
    "1. What are functions?\n",
    "    - Function objects\n",
    "    - Defined functions vs. execution of functions\n",
    "2. Writing simple functions\n",
    "3. Arguments and parameters\n",
    "    - What are they?\n",
    "    - How are arguments mapped to parameters?\n",
    "    - Positional arguments\n",
    "    - Keyword arguments\n",
    "4. Return values\n",
    "    - Returning simple values\n",
    "    - Returning complex values\n",
    "5. Default argument values\n",
    "    - How this works\n",
    "    - What to watch out for\n",
    "    - When would you want to use this \n",
    "    - When does Python use this?\n",
    "6. `*args`  (pronounced \"splat args\")\n",
    "    - What does it do?\n",
    "    - Why do we need it?\n",
    "    - How can we use it?\n",
    "7. `**kwargs` (pronounced \"double splat kwargs\")\n",
    "    - What does it do?\n",
    "    - Why do we need it?\n",
    "    - How can we use it?\n",
    "8. Local variables\n",
    "    - Locals vs. globals\n",
    "    - The `global` declaration (and why it's horrible)\n",
    "    - LEGB rule for scoping\n",
    "    - Locals vs. globals vs. builtins"
   ]
  },
  {
   "cell_type": "markdown",
   "metadata": {},
   "source": [
    "# What are functions?\n",
    "\n",
    "Functions are the verbs in a programming language.\n",
    "\n",
    "Every programming language comes with a bunch of functions.\n",
    "\n",
    "- `len`\n",
    "- `print`\n",
    "- `input`\n",
    "\n",
    "All of these are predefined functions that do things.  But what if we want to define our own function?\n",
    "\n",
    "Do we need functions?  We don't **need** functions, but we really want them.  Why?\n",
    "\n",
    "1. They let us \"DRY U"
   ]
  }
 ],
 "metadata": {
  "kernelspec": {
   "display_name": "Python 3 (ipykernel)",
   "language": "python",
   "name": "python3"
  },
  "language_info": {
   "codemirror_mode": {
    "name": "ipython",
    "version": 3
   },
   "file_extension": ".py",
   "mimetype": "text/x-python",
   "name": "python",
   "nbconvert_exporter": "python",
   "pygments_lexer": "ipython3",
   "version": "3.11.1"
  }
 },
 "nbformat": 4,
 "nbformat_minor": 4
}
