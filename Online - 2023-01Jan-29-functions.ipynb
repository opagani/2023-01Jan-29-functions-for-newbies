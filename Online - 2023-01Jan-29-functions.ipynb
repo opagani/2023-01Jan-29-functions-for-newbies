{
 "cells": [
  {
   "cell_type": "markdown",
   "metadata": {},
   "source": [
    "# Agenda\n",
    "\n",
    "1. What are functions?\n",
    "    - Function objects\n",
    "    - Defined functions vs. execution of functions\n",
    "2. Writing simple functions\n",
    "3. Arguments and parameters\n",
    "    - What are they?\n",
    "    - How are arguments mapped to parameters?\n",
    "    - Positional arguments\n",
    "    - Keyword arguments\n",
    "4. Return values\n",
    "    - Returning simple values\n",
    "    - Returning complex values\n",
    "5. Default argument values\n",
    "    - How this works\n",
    "    - What to watch out for\n",
    "    - When would you want to use this \n",
    "    - When does Python use this?\n",
    "6. `*args`  (pronounced \"splat args\")\n",
    "    - What does it do?\n",
    "    - Why do we need it?\n",
    "    - How can we use it?\n",
    "7. `**kwargs` (pronounced \"double splat kwargs\")\n",
    "    - What does it do?\n",
    "    - Why do we need it?\n",
    "    - How can we use it?\n",
    "8. Local variables\n",
    "    - Locals vs. globals\n",
    "    - The `global` declaration (and why it's horrible)\n",
    "    - LEGB rule for scoping\n",
    "    - Locals vs. globals vs. builtins"
   ]
  },
  {
   "cell_type": "markdown",
   "metadata": {},
   "source": [
    "# What are functions?\n",
    "\n",
    "Functions are the verbs in a programming language.\n",
    "\n",
    "Every programming language comes with a bunch of functions.\n",
    "\n",
    "- `len`\n",
    "- `print`\n",
    "- `input`\n",
    "\n",
    "All of these are predefined functions that do things.  But what if we want to define our own function?\n",
    "\n",
    "Do we need functions?  We don't **need** functions, but we really want them.  Why?\n",
    "\n",
    "1. They let us \"DRY up\" our code, so that we don't repeat ourselves.\n",
    "2. They let us think at a higher level of abstraction."
   ]
  },
  {
   "cell_type": "markdown",
   "metadata": {},
   "source": [
    "# How do I define a function?\n",
    "\n",
    "Defining a function means: Teaching Python a new verb.  We do this in terms of other verbs that were already defined.\n",
    "\n",
    "We do this with the `def` keyword. The syntax looks like this:\n",
    "\n",
    "```python\n",
    "def NAME():\n",
    "    BODY_LINE_1\n",
    "    BODY_LINE_2\n",
    "    BODY_LINE_3\n",
    "```\n",
    "\n",
    "The name of a function can be any legal \"identifier\" name in Python -- any number of letters, numbers, and `_` characters, but the name cannot start with a number, and shouldn't start with an `_`.\n",
    "\n",
    "You must have parentheses after the function name; we'll fill those in later, but for now, they'll be blank.\n",
    "\n",
    "Then we have a colon, followed by any number of indented lines.\n",
    "\n",
    "The indented lines are the \"body\" of the function.  They can have any number of characters, we can have any number of lines, and the function body can contain just about any Python code you want -- including `if`, `for`, `open`, etc.\n",
    "\n",
    "When I define a function, I'm teaching Python a new verb. But I'm not actually *executing* or *running* the function just yet. I'm just defining it."
   ]
  },
  {
   "cell_type": "code",
   "execution_count": 1,
   "metadata": {},
   "outputs": [],
   "source": [
    "def hello():          # def + function name + () + :\n",
    "    print('Hello!')   # function body will print \"Hello!\" on the screen"
   ]
  },
  {
   "cell_type": "code",
   "execution_count": 2,
   "metadata": {},
   "outputs": [
    {
     "data": {
      "text/plain": [
       "function"
      ]
     },
     "execution_count": 2,
     "metadata": {},
     "output_type": "execute_result"
    }
   ],
   "source": [
    "# I can check to see if Python knows that \"hello\" is defined, and that it's a function\n",
    "\n",
    "type(hello)   "
   ]
  },
  {
   "cell_type": "code",
   "execution_count": 3,
   "metadata": {},
   "outputs": [
    {
     "data": {
      "text/plain": [
       "int"
      ]
     },
     "execution_count": 3,
     "metadata": {},
     "output_type": "execute_result"
    }
   ],
   "source": [
    "type(5)"
   ]
  },
  {
   "cell_type": "code",
   "execution_count": 4,
   "metadata": {},
   "outputs": [
    {
     "data": {
      "text/plain": [
       "str"
      ]
     },
     "execution_count": 4,
     "metadata": {},
     "output_type": "execute_result"
    }
   ],
   "source": [
    "type('abcd')"
   ]
  },
  {
   "cell_type": "markdown",
   "metadata": {},
   "source": [
    "# Functions are nouns, not just verbs\n",
    "\n",
    "One of the biggest things to understand in Python is that functions are nouns (data), not just verbs.\n",
    "\n",
    "They are assigned to variables, just like other data can be.\n",
    "\n",
    "When we say\n",
    "\n",
    "    x = 5\n",
    "    \n",
    "we're assigning the integer 5 to the variable `x`. And when we use `def` to define a function, we're assigning a \"function object\" to the variable `hello`.\n",
    "\n",
    "Who cares? Why do we need to think about function objects?\n",
    "\n",
    "A few reasons:\n",
    "\n",
    "1. If you use a variable name for a function, then you cannot use it for data, and vice versa.\n",
    "2. The rules for variable scoping (which we'll talk about later) are exactly the same for function scoping.\n",
    "3. We can pass functions around, as if they were data.\n",
    "4. *MOST IMPORTANT* when we define a function, we're defining the blueprint for what we want to happen when we execute it. The actual execution takes that blueprint, and then runs the code in a separate place. Every time we run a function, that happens inside of a special place in memory."
   ]
  },
  {
   "cell_type": "code",
   "execution_count": 7,
   "metadata": {},
   "outputs": [
    {
     "name": "stdout",
     "output_type": "stream",
     "text": [
      "<class 'function'>\n"
     ]
    }
   ],
   "source": [
    "def hello():\n",
    "    print('hello!')\n",
    "\n",
    "print(type(hello))"
   ]
  },
  {
   "cell_type": "code",
   "execution_count": 6,
   "metadata": {},
   "outputs": [],
   "source": [
    "# In PyCharm (or another non-Jupyter editor), you'll need to run the code that you wrote\n",
    "# Usually,  you can do that by pressing on the green triangle at the top of the screen\n",
    "\n",
    "# But... you'll likely get no output, even if it runs, because you didn't use print\n",
    "# In Jupyter, it automatically displays the output from \"type\" or anything else"
   ]
  },
  {
   "cell_type": "code",
   "execution_count": 8,
   "metadata": {},
   "outputs": [],
   "source": [
    "def hello5():\n",
    "    for i in range(5):\n",
    "        print('hello!')"
   ]
  },
  {
   "cell_type": "code",
   "execution_count": 9,
   "metadata": {},
   "outputs": [
    {
     "name": "stdout",
     "output_type": "stream",
     "text": [
      "hello!\n"
     ]
    }
   ],
   "source": [
    "# to run the function, I'm going to name the function and put () after it\n",
    "\n",
    "hello()      # () in this context mean: run the function named just before"
   ]
  },
  {
   "cell_type": "code",
   "execution_count": 10,
   "metadata": {},
   "outputs": [
    {
     "name": "stdout",
     "output_type": "stream",
     "text": [
      "hello!\n",
      "hello!\n",
      "hello!\n",
      "hello!\n",
      "hello!\n"
     ]
    }
   ],
   "source": [
    "hello5()"
   ]
  },
  {
   "cell_type": "code",
   "execution_count": 11,
   "metadata": {},
   "outputs": [
    {
     "name": "stdout",
     "output_type": "stream",
     "text": [
      "hello!\n",
      "hello!\n",
      "hello!\n"
     ]
    }
   ],
   "source": [
    "# I can also say:\n",
    "\n",
    "for i in range(3):\n",
    "    hello()"
   ]
  },
  {
   "cell_type": "markdown",
   "metadata": {},
   "source": [
    "# Exercise: First and last names\n",
    "\n",
    "1. Write a function, `greet`, that when run, asks the user to enter their first name and (separately) their last name.\n",
    "2. Each of these should be assigned to a different variable. You can get input from the user (as a string) via the `input` function.\n",
    "3. Print a nice greeting, along with the user's name.\n",
    "\n",
    "Some hints:\n",
    "1. Use `input` to get input from the user, as in: `name = input('Enter your name: ')`\n",
    "2. You can print things inside of an f-string, as in: `print(f'x = {x}')`"
   ]
  },
  {
   "cell_type": "code",
   "execution_count": 12,
   "metadata": {},
   "outputs": [
    {
     "name": "stdout",
     "output_type": "stream",
     "text": [
      "Enter your name: Reuven\n"
     ]
    }
   ],
   "source": [
    "name = input('Enter your name: ')"
   ]
  },
  {
   "cell_type": "code",
   "execution_count": 14,
   "metadata": {},
   "outputs": [
    {
     "name": "stdout",
     "output_type": "stream",
     "text": [
      "Reuven\n"
     ]
    }
   ],
   "source": [
    "print(name)   # the variable name has been assigned whatever the user typed (as a string)"
   ]
  },
  {
   "cell_type": "code",
   "execution_count": 15,
   "metadata": {},
   "outputs": [],
   "source": [
    "def greet():          # new function with \"def\", it's called \"greet\"\n",
    "    first_name = input('Enter first name: ').strip()    # get the first name, remove outer whitespace, assign\n",
    "    last_name = input('Enter last name: ').strip()      # get the first name, remove outer whitespace, assign\n",
    "    \n",
    "    print(f'Hello, {first_name} {last_name}!')\n",
    "    "
   ]
  },
  {
   "cell_type": "code",
   "execution_count": 16,
   "metadata": {},
   "outputs": [
    {
     "name": "stdout",
     "output_type": "stream",
     "text": [
      "Enter first name: Reuven\n",
      "Enter last name: Lerner\n",
      "Hello, Reuven Lerner!\n"
     ]
    }
   ],
   "source": [
    "greet()   # this executes the function "
   ]
  },
  {
   "cell_type": "code",
   "execution_count": 17,
   "metadata": {},
   "outputs": [],
   "source": [
    "def greet():\n",
    "    first_name = input('Enter First Name:').strip()\n",
    "    last_name = input('Enter Last Name:').strip()\n",
    "    print(f'Hello, {first_name} {last_name}!')"
   ]
  },
  {
   "cell_type": "code",
   "execution_count": 18,
   "metadata": {},
   "outputs": [
    {
     "name": "stdout",
     "output_type": "stream",
     "text": [
      "Enter First Name:abcd\n",
      "Enter Last Name:efgh\n",
      "Hello, abcd efgh!\n"
     ]
    }
   ],
   "source": [
    "greet()"
   ]
  },
  {
   "cell_type": "markdown",
   "metadata": {},
   "source": [
    "# Arguments and parameters\n",
    "\n",
    "I'd like to be able to call my function with different values (known as \"arguments\"). We see this in lots of other functions:\n",
    "\n",
    "    len('abcd')    # here, 'abcd' is an argument to the \"len\" function\n",
    "    \n",
    "We can do this by defining our function with a *parameter*. That is a variable that'll get its value defined by whoever calls the function."
   ]
  },
  {
   "cell_type": "code",
   "execution_count": 19,
   "metadata": {},
   "outputs": [
    {
     "name": "stdout",
     "output_type": "stream",
     "text": [
      "Hello, world!\n"
     ]
    }
   ],
   "source": [
    "def hello(name):    # now, we've defined hello with one parameter, called \"name\" -- a variable in our function\n",
    "    print(f'Hello, {name}!')  # we know that name will be defined with whatever argument the user passed\n",
    "    \n",
    "hello('world')      # the value/argument 'world' is assigned to the variable/parameter name"
   ]
  },
  {
   "cell_type": "code",
   "execution_count": 20,
   "metadata": {},
   "outputs": [
    {
     "name": "stdout",
     "output_type": "stream",
     "text": [
      "Hello, out there!\n"
     ]
    }
   ],
   "source": [
    "hello('out there')"
   ]
  },
  {
   "cell_type": "code",
   "execution_count": 21,
   "metadata": {},
   "outputs": [
    {
     "name": "stdout",
     "output_type": "stream",
     "text": [
      "Hello, Reuven!\n"
     ]
    }
   ],
   "source": [
    "hello('Reuven')"
   ]
  },
  {
   "cell_type": "code",
   "execution_count": 22,
   "metadata": {},
   "outputs": [],
   "source": [
    "# how is our argument assigned to our parameter?\n",
    "# what if we don't pass an argument? Or what if we pass too many arguments?"
   ]
  },
  {
   "cell_type": "code",
   "execution_count": 23,
   "metadata": {},
   "outputs": [
    {
     "ename": "TypeError",
     "evalue": "hello() missing 1 required positional argument: 'name'",
     "output_type": "error",
     "traceback": [
      "\u001b[0;31m---------------------------------------------------------------------------\u001b[0m",
      "\u001b[0;31mTypeError\u001b[0m                                 Traceback (most recent call last)",
      "Cell \u001b[0;32mIn [23], line 1\u001b[0m\n\u001b[0;32m----> 1\u001b[0m \u001b[43mhello\u001b[49m\u001b[43m(\u001b[49m\u001b[43m)\u001b[49m    \u001b[38;5;66;03m# I'm passing zero arguments, even though the function needs one\u001b[39;00m\n",
      "\u001b[0;31mTypeError\u001b[0m: hello() missing 1 required positional argument: 'name'"
     ]
    }
   ],
   "source": [
    "hello()    # I'm passing zero arguments, even though the function needs one"
   ]
  },
  {
   "cell_type": "code",
   "execution_count": 24,
   "metadata": {},
   "outputs": [
    {
     "ename": "TypeError",
     "evalue": "hello() takes 1 positional argument but 2 were given",
     "output_type": "error",
     "traceback": [
      "\u001b[0;31m---------------------------------------------------------------------------\u001b[0m",
      "\u001b[0;31mTypeError\u001b[0m                                 Traceback (most recent call last)",
      "Cell \u001b[0;32mIn [24], line 1\u001b[0m\n\u001b[0;32m----> 1\u001b[0m \u001b[43mhello\u001b[49m\u001b[43m(\u001b[49m\u001b[38;5;124;43m'\u001b[39;49m\u001b[38;5;124;43ma\u001b[39;49m\u001b[38;5;124;43m'\u001b[39;49m\u001b[43m,\u001b[49m\u001b[43m \u001b[49m\u001b[38;5;124;43m'\u001b[39;49m\u001b[38;5;124;43mb\u001b[39;49m\u001b[38;5;124;43m'\u001b[39;49m\u001b[43m)\u001b[49m \u001b[38;5;66;03m# I'm passing two arguments, even though the function needs one\u001b[39;00m\n",
      "\u001b[0;31mTypeError\u001b[0m: hello() takes 1 positional argument but 2 were given"
     ]
    }
   ],
   "source": [
    "hello('a', 'b') # I'm passing two arguments, even though the function needs one"
   ]
  },
  {
   "cell_type": "markdown",
   "metadata": {},
   "source": [
    "# Exercise: `add`\n",
    "\n",
    "1. Write a function, `add`, that takes two arguments. This means you'll need to define it with two parameters. (You can call them `first` and `second`, if you want.)\n",
    "2. The function should print a string showing the addition of these arguments.\n",
    "3. Call your function several times. Each time, pass different arguments.\n",
    "\n",
    "Examples:\n",
    "\n",
    "    add(2, 3)   # should print \"2 + 3 = 5\"\n",
    "    add(5, 7)   # should print \"5 + 7 = 12\"\n",
    "    \n",
    "    "
   ]
  },
  {
   "cell_type": "code",
   "execution_count": 25,
   "metadata": {},
   "outputs": [],
   "source": [
    "def add(first, second):\n",
    "    total = first + second                  # assign the sum to a new variable\n",
    "    print(f'{first} + {second} = {total}')  # print the full equation"
   ]
  },
  {
   "cell_type": "code",
   "execution_count": 26,
   "metadata": {},
   "outputs": [
    {
     "ename": "TypeError",
     "evalue": "add() missing 2 required positional arguments: 'first' and 'second'",
     "output_type": "error",
     "traceback": [
      "\u001b[0;31m---------------------------------------------------------------------------\u001b[0m",
      "\u001b[0;31mTypeError\u001b[0m                                 Traceback (most recent call last)",
      "Cell \u001b[0;32mIn [26], line 1\u001b[0m\n\u001b[0;32m----> 1\u001b[0m \u001b[43madd\u001b[49m\u001b[43m(\u001b[49m\u001b[43m)\u001b[49m  \u001b[38;5;66;03m# what if I just call add, without any arguments?\u001b[39;00m\n",
      "\u001b[0;31mTypeError\u001b[0m: add() missing 2 required positional arguments: 'first' and 'second'"
     ]
    }
   ],
   "source": [
    "add()  # what if I just call add, without any arguments?"
   ]
  },
  {
   "cell_type": "code",
   "execution_count": 27,
   "metadata": {},
   "outputs": [
    {
     "name": "stdout",
     "output_type": "stream",
     "text": [
      "2 + 3 = 5\n"
     ]
    }
   ],
   "source": [
    "# positional arguments are assigned to parameters in the order that they're passed\n",
    "\n",
    "add(2, 3)    # 2 --> first, 3 --> second"
   ]
  },
  {
   "cell_type": "code",
   "execution_count": 28,
   "metadata": {},
   "outputs": [
    {
     "name": "stdout",
     "output_type": "stream",
     "text": [
      "5 + 7 = 12\n"
     ]
    }
   ],
   "source": [
    "add(5, 7)"
   ]
  },
  {
   "cell_type": "markdown",
   "metadata": {},
   "source": [
    "# How can I ensure that I get the right kinds of arguments?\n",
    "\n",
    "In many programming languages, when you define a function, you indicate what types of values can be passed as arguments, and thus assigned to your parameters.\n",
    "\n",
    "If the user passed arguments that don't match the types of the parameters, you can get an error.\n",
    "\n",
    "Python doesn't work this way. You can pass any type you want as any argument to any parameter.\n",
    "\n",
    "There is a new-ish mechanism called \"type hints\" that tries to make this harder and rarer. But it requires an external program; Python itself doesn't care less."
   ]
  },
  {
   "cell_type": "code",
   "execution_count": 29,
   "metadata": {},
   "outputs": [
    {
     "name": "stdout",
     "output_type": "stream",
     "text": [
      "3 + 5 = 8\n"
     ]
    }
   ],
   "source": [
    "# I can use my \"add\" function on any values that can be +'ed together\n",
    "\n",
    "add(3, 5)"
   ]
  },
  {
   "cell_type": "code",
   "execution_count": 30,
   "metadata": {},
   "outputs": [
    {
     "name": "stdout",
     "output_type": "stream",
     "text": [
      "abcd + efgh = abcdefgh\n"
     ]
    }
   ],
   "source": [
    "add('abcd', 'efgh')"
   ]
  },
  {
   "cell_type": "code",
   "execution_count": 31,
   "metadata": {},
   "outputs": [
    {
     "name": "stdout",
     "output_type": "stream",
     "text": [
      "[10, 20, 30] + [40, 50, 60, 70] = [10, 20, 30, 40, 50, 60, 70]\n"
     ]
    }
   ],
   "source": [
    "add([10, 20, 30], [40, 50, 60, 70])"
   ]
  },
  {
   "cell_type": "markdown",
   "metadata": {},
   "source": [
    "# Next up\n",
    "\n",
    "- Keyword arguments\n",
    "- Return values\n",
    "- Default arguments\n",
    "\n",
    "Return at :41"
   ]
  },
  {
   "cell_type": "code",
   "execution_count": 32,
   "metadata": {},
   "outputs": [
    {
     "name": "stdout",
     "output_type": "stream",
     "text": [
      "5 + 10 = 15\n"
     ]
    }
   ],
   "source": [
    "# our add function takes two arguments\n",
    "# we've seen that we can pass *positional* arguments\n",
    "# again: that means that the arguments are assigned to the parameters in the corresponding positions\n",
    "\n",
    "# parameters: first second\n",
    "# arguments:  5     10\n",
    "\n",
    "add(5, 10)"
   ]
  },
  {
   "cell_type": "code",
   "execution_count": 33,
   "metadata": {},
   "outputs": [
    {
     "name": "stdout",
     "output_type": "stream",
     "text": [
      "5 + 10 = 15\n"
     ]
    }
   ],
   "source": [
    "# it turns out that there's another way to pass arguments to a function\n",
    "# that would be: keyword arguments\n",
    "\n",
    "# keyword arguments look like this: name=value\n",
    "# in this way, we can tell Python which parameter should be assigned our argument value\n",
    "# the position (i.e., order) of the keyword arguments doesn't matter.\n",
    "\n",
    "# parameters:  first    second\n",
    "# arguments      5        10\n",
    "\n",
    "add(first=5, second=10)  # now using keyword arguments"
   ]
  },
  {
   "cell_type": "code",
   "execution_count": 34,
   "metadata": {},
   "outputs": [
    {
     "name": "stdout",
     "output_type": "stream",
     "text": [
      "10 + 5 = 15\n"
     ]
    }
   ],
   "source": [
    "\n",
    "# parameters:  first    second\n",
    "# arguments     10         5\n",
    "\n",
    "add(second=5, first=10)  # now using keyword arguments"
   ]
  },
  {
   "cell_type": "markdown",
   "metadata": {},
   "source": [
    "# Some questions about positional vs. keyword arguments\n",
    "\n",
    "1. Can we use both types of arguments in the same function call? **YES**, but all positional arguments must come before all keyword arguments.\n",
    "2. Can a function say that certain parameters can only get certain kinds of arguments? That is, can I define a function whose parameters only work with positional arguments, or ony work with keyword arguments? Yes, but that's kind of advanced.\n",
    "3. Why would I use either (or both) of these types? What's the advantage?\n",
    "\n",
    "- Positional arguments are easier to understand and work with\n",
    "- But they tend to fall down when you have a lot of them, or when you have many parameters with defaults (making them optional)\n",
    "- Keyword arguments are clearer, because they're explicit\n",
    "- But they can be clumsier to write\n",
    "\n",
    "Most of the time, most people will use positional arguments. But there are exceptions."
   ]
  },
  {
   "cell_type": "code",
   "execution_count": 35,
   "metadata": {},
   "outputs": [
    {
     "name": "stdout",
     "output_type": "stream",
     "text": [
      "5 + 10 = 15\n"
     ]
    }
   ],
   "source": [
    "# can we mix positional + keyword? Yes, in that order\n",
    "\n",
    "add(5, second=10)   # positional before keyword = OK!"
   ]
  },
  {
   "cell_type": "code",
   "execution_count": 36,
   "metadata": {},
   "outputs": [
    {
     "ename": "SyntaxError",
     "evalue": "positional argument follows keyword argument (1175009695.py, line 1)",
     "output_type": "error",
     "traceback": [
      "\u001b[0;36m  Cell \u001b[0;32mIn [36], line 1\u001b[0;36m\u001b[0m\n\u001b[0;31m    add(first=5, 10)    # positional *AFTER* keyword? BAD!\u001b[0m\n\u001b[0m                   ^\u001b[0m\n\u001b[0;31mSyntaxError\u001b[0m\u001b[0;31m:\u001b[0m positional argument follows keyword argument\n"
     ]
    }
   ],
   "source": [
    "add(first=5, 10)    # positional *AFTER* keyword? BAD!"
   ]
  },
  {
   "cell_type": "markdown",
   "metadata": {},
   "source": [
    "# Return values\n",
    "\n",
    "When we call a function in Python, we often want to get a value back from that function.\n",
    "\n",
    "For example:\n",
    "\n",
    "    len('abcd')   # this \"returns\" the value 4\n",
    "    \n",
    "We can capture the return value in a variable, or another function, or `print`.    \n",
    "\n",
    "    print(len('abcd'))  # prints 4\n",
    "\n",
    "    x = len('abcd')     # assigns x the value 4\n",
    "    \n",
    "Right now, our functions don't return any value. (Technically, they return a special value called `None`, because we didn't explicitly return anything.)\n",
    "\n",
    "If we want our function to return something, we need to say so, with the special keyword `return`, and any value we want to return."
   ]
  },
  {
   "cell_type": "code",
   "execution_count": 37,
   "metadata": {},
   "outputs": [],
   "source": [
    "def hello(name):\n",
    "    return f'Hello, {name}!'    # notice -- here, I'm returning a string, not printing it"
   ]
  },
  {
   "cell_type": "code",
   "execution_count": 38,
   "metadata": {},
   "outputs": [],
   "source": [
    "x = hello('Reuven')"
   ]
  },
  {
   "cell_type": "code",
   "execution_count": 39,
   "metadata": {},
   "outputs": [
    {
     "name": "stdout",
     "output_type": "stream",
     "text": [
      "Hello, Reuven!\n"
     ]
    }
   ],
   "source": [
    "print(x)"
   ]
  },
  {
   "cell_type": "code",
   "execution_count": 40,
   "metadata": {},
   "outputs": [
    {
     "name": "stdout",
     "output_type": "stream",
     "text": [
      "Hello, Reuven!\n"
     ]
    }
   ],
   "source": [
    "print(hello('Reuven'))"
   ]
  },
  {
   "cell_type": "markdown",
   "metadata": {},
   "source": [
    "# Return values vs. printouts\n",
    "\n",
    "It's almost always better to use `return` to return a value from a function than to `print`. \n",
    "\n",
    "We can always print a return value, but we cannot grab (into a variable or function) a printed value.\n",
    "\n",
    "Of course, it's OK to use `print` in a function if the function is meant to print things, or if you're doing debugging via the `print` function.\n",
    "\n",
    "What can you return from a function? **ABSOLUTELY ANY Python VALUE**.  Integers, strings, lists, tuples, dicts, modules, even functions!"
   ]
  },
  {
   "cell_type": "markdown",
   "metadata": {},
   "source": [
    "# Exercise: Smallest and biggest\n",
    "\n",
    "1. Write a function that takes a single argument, a list of numbers. We'll call its parameter `numbers`. \n",
    "2. The function will return a list of two elements, the smallest and largest numbers in `numbers`.\n",
    "3. The function will start off by defining that list of two elements as `numbers[0]`, the first element.\n",
    "4. Go through each element of `numbers`\n",
    "    - If the current value is smaller than the current smallest, then replace the smallest value\n",
    "    - If the current value is bigger than the current biggest, then replace the biggest value\n",
    "5. The function should return the two-element list with the smallest and biggest values.\n",
    "\n",
    "Example:\n",
    "\n",
    "    smallest_and_biggest([10, 20, 30, 5, 8, 12])   # returns the list [5, 30]\n",
    "    "
   ]
  },
  {
   "cell_type": "code",
   "execution_count": 42,
   "metadata": {},
   "outputs": [
    {
     "data": {
      "text/plain": [
       "[5, 30]"
      ]
     },
     "execution_count": 42,
     "metadata": {},
     "output_type": "execute_result"
    }
   ],
   "source": [
    "def smallest_and_biggest(numbers):\n",
    "    smallest = numbers[0]    # assume that the smallest number in numbers is its first element\n",
    "    biggest = numbers[0]     # assume that the biggest number in numbers is its first element\n",
    "    \n",
    "    for one_number in numbers[1:]:   # start with index 1 in numbers\n",
    "        if one_number < smallest:\n",
    "            smallest = one_number\n",
    "            \n",
    "        if one_number > biggest:\n",
    "            biggest = one_number\n",
    "\n",
    "    return [smallest, biggest]  # return a list of two elements with the smallest and biggest numbers\n",
    "\n",
    "\n",
    "\n",
    "\n",
    "smallest_and_biggest([10, 20, 30, 5, 8, 12])   # this list was passed as a positional argument"
   ]
  },
  {
   "cell_type": "code",
   "execution_count": 45,
   "metadata": {},
   "outputs": [
    {
     "data": {
      "text/plain": [
       "'rubude'"
      ]
     },
     "execution_count": 45,
     "metadata": {},
     "output_type": "execute_result"
    }
   ],
   "source": [
    "def ubi_dub(word):\n",
    "    for one_vowel in 'aeiou':\n",
    "        w = word.replace(one_vowel, 'ub' + one_vowel)\n",
    "    return w\n",
    "\n",
    "ubi_dub('rude')"
   ]
  },
  {
   "cell_type": "code",
   "execution_count": 46,
   "metadata": {},
   "outputs": [
    {
     "name": "stdout",
     "output_type": "stream",
     "text": [
      "Enter your name: Reuven Lerner\n"
     ]
    },
    {
     "ename": "NameError",
     "evalue": "name 'surname' is not defined",
     "output_type": "error",
     "traceback": [
      "\u001b[0;31m---------------------------------------------------------------------------\u001b[0m",
      "\u001b[0;31mNameError\u001b[0m                                 Traceback (most recent call last)",
      "Cell \u001b[0;32mIn [46], line 5\u001b[0m\n\u001b[1;32m      3\u001b[0m     \u001b[38;5;28;01mreturn\u001b[39;00m \u001b[38;5;124mf\u001b[39m\u001b[38;5;124m'\u001b[39m\u001b[38;5;132;01m{\u001b[39;00mname\u001b[38;5;132;01m}\u001b[39;00m\u001b[38;5;124m+\u001b[39m\u001b[38;5;132;01m{\u001b[39;00msurname\u001b[38;5;132;01m}\u001b[39;00m\u001b[38;5;124m'\u001b[39m\n\u001b[1;32m      4\u001b[0m     \u001b[38;5;28mprint\u001b[39m(\u001b[38;5;124mf\u001b[39m\u001b[38;5;124m'\u001b[39m\u001b[38;5;124mNice to meet you \u001b[39m\u001b[38;5;132;01m{\u001b[39;00mname\u001b[38;5;132;01m}\u001b[39;00m\u001b[38;5;124m \u001b[39m\u001b[38;5;132;01m{\u001b[39;00msurname\u001b[38;5;132;01m}\u001b[39;00m\u001b[38;5;124m'\u001b[39m)\n\u001b[0;32m----> 5\u001b[0m \u001b[43mgreet\u001b[49m\u001b[43m(\u001b[49m\u001b[43m)\u001b[49m\n",
      "Cell \u001b[0;32mIn [46], line 3\u001b[0m, in \u001b[0;36mgreet\u001b[0;34m()\u001b[0m\n\u001b[1;32m      1\u001b[0m \u001b[38;5;28;01mdef\u001b[39;00m \u001b[38;5;21mgreet\u001b[39m():\n\u001b[1;32m      2\u001b[0m     name \u001b[38;5;241m=\u001b[39m \u001b[38;5;28minput\u001b[39m(\u001b[38;5;124m\"\u001b[39m\u001b[38;5;124mEnter your name: \u001b[39m\u001b[38;5;124m\"\u001b[39m)\n\u001b[0;32m----> 3\u001b[0m     \u001b[38;5;28;01mreturn\u001b[39;00m \u001b[38;5;124mf\u001b[39m\u001b[38;5;124m'\u001b[39m\u001b[38;5;132;01m{\u001b[39;00mname\u001b[38;5;132;01m}\u001b[39;00m\u001b[38;5;124m+\u001b[39m\u001b[38;5;132;01m{\u001b[39;00m\u001b[43msurname\u001b[49m\u001b[38;5;132;01m}\u001b[39;00m\u001b[38;5;124m'\u001b[39m\n\u001b[1;32m      4\u001b[0m     \u001b[38;5;28mprint\u001b[39m(\u001b[38;5;124mf\u001b[39m\u001b[38;5;124m'\u001b[39m\u001b[38;5;124mNice to meet you \u001b[39m\u001b[38;5;132;01m{\u001b[39;00mname\u001b[38;5;132;01m}\u001b[39;00m\u001b[38;5;124m \u001b[39m\u001b[38;5;132;01m{\u001b[39;00msurname\u001b[38;5;132;01m}\u001b[39;00m\u001b[38;5;124m'\u001b[39m)\n",
      "\u001b[0;31mNameError\u001b[0m: name 'surname' is not defined"
     ]
    }
   ],
   "source": [
    "def greet():\n",
    "    name = input(\"Enter your name: \")\n",
    "    return f'{name}+{surname}'\n",
    "    print(f'Nice to meet you {name} {surname}')\n",
    "greet()"
   ]
  },
  {
   "cell_type": "code",
   "execution_count": null,
   "metadata": {},
   "outputs": [],
   "source": []
  }
 ],
 "metadata": {
  "kernelspec": {
   "display_name": "Python 3 (ipykernel)",
   "language": "python",
   "name": "python3"
  },
  "language_info": {
   "codemirror_mode": {
    "name": "ipython",
    "version": 3
   },
   "file_extension": ".py",
   "mimetype": "text/x-python",
   "name": "python",
   "nbconvert_exporter": "python",
   "pygments_lexer": "ipython3",
   "version": "3.11.1"
  }
 },
 "nbformat": 4,
 "nbformat_minor": 4
}
