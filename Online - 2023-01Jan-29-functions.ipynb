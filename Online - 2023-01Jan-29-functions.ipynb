{
 "cells": [
  {
   "cell_type": "markdown",
   "metadata": {},
   "source": [
    "# Agenda\n",
    "\n",
    "1. What are functions?\n",
    "    - Function objects\n",
    "    - Defined functions vs. execution of functions\n",
    "2. Writing simple functions\n",
    "3. Arguments and parameters\n",
    "    - What are they?\n",
    "    - How are arguments mapped to parameters?\n",
    "    - Positional arguments\n",
    "    - Keyword arguments\n",
    "4. Return values\n",
    "    - Returning simple values\n",
    "    - Returning complex values\n",
    "5. Default argument values\n",
    "    - How this works\n",
    "    - What to watch out for\n",
    "    - When would you want to use this \n",
    "    - When does Python use this?\n",
    "6. `*args`  (pronounced \"splat args\")\n",
    "    - What does it do?\n",
    "    - Why do we need it?\n",
    "    - How can we use it?\n",
    "7. `**kwargs` (pronounced \"double splat kwargs\")\n",
    "    - What does it do?\n",
    "    - Why do we need it?\n",
    "    - How can we use it?\n",
    "8. Local variables\n",
    "    - Locals vs. globals\n",
    "    - The `global` declaration (and why it's horrible)\n",
    "    - LEGB rule for scoping\n",
    "    - Locals vs. globals vs. builtins"
   ]
  },
  {
   "cell_type": "markdown",
   "metadata": {},
   "source": [
    "# What are functions?\n",
    "\n",
    "Functions are the verbs in a programming language.\n",
    "\n",
    "Every programming language comes with a bunch of functions.\n",
    "\n",
    "- `len`\n",
    "- `print`\n",
    "- `input`\n",
    "\n",
    "All of these are predefined functions that do things.  But what if we want to define our own function?\n",
    "\n",
    "Do we need functions?  We don't **need** functions, but we really want them.  Why?\n",
    "\n",
    "1. They let us \"DRY up\" our code, so that we don't repeat ourselves.\n",
    "2. They let us think at a higher level of abstraction."
   ]
  },
  {
   "cell_type": "markdown",
   "metadata": {},
   "source": [
    "# How do I define a function?\n",
    "\n",
    "Defining a function means: Teaching Python a new verb.  We do this in terms of other verbs that were already defined.\n",
    "\n",
    "We do this with the `def` keyword. The syntax looks like this:\n",
    "\n",
    "```python\n",
    "def NAME():\n",
    "    BODY_LINE_1\n",
    "    BODY_LINE_2\n",
    "    BODY_LINE_3\n",
    "```\n",
    "\n",
    "The name of a function can be any legal \"identifier\" name in Python -- any number of letters, numbers, and `_` characters, but the name cannot start with a number, and shouldn't start with an `_`.\n",
    "\n",
    "You must have parentheses after the function name; we'll fill those in later, but for now, they'll be blank.\n",
    "\n",
    "Then we have a colon, followed by any number of indented lines.\n",
    "\n",
    "The indented lines are the \"body\" of the function.  They can have any number of characters, we can have any number of lines, and the function body can contain just about any Python code you want -- including `if`, `for`, `open`, etc.\n",
    "\n",
    "When I define a function, I'm teaching Python a new verb. But I'm not actually *executing* or *running* the function just yet. I'm just defining it."
   ]
  },
  {
   "cell_type": "code",
   "execution_count": null,
   "metadata": {},
   "outputs": [],
   "source": [
    "def hello():          # def + function name + () + :\n",
    "    print('Hello!')   # function body == "
   ]
  }
 ],
 "metadata": {
  "kernelspec": {
   "display_name": "Python 3 (ipykernel)",
   "language": "python",
   "name": "python3"
  },
  "language_info": {
   "codemirror_mode": {
    "name": "ipython",
    "version": 3
   },
   "file_extension": ".py",
   "mimetype": "text/x-python",
   "name": "python",
   "nbconvert_exporter": "python",
   "pygments_lexer": "ipython3",
   "version": "3.11.1"
  }
 },
 "nbformat": 4,
 "nbformat_minor": 4
}
