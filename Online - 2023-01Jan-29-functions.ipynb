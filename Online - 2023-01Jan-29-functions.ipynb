{
 "cells": [
  {
   "cell_type": "markdown",
   "metadata": {},
   "source": [
    "# Agenda\n",
    "\n",
    "1. What are functions?\n",
    "    - Function objects\n",
    "    - Defined functions vs. execution of functions\n",
    "2. Writing simple functions\n",
    "3. Arguments and parameters\n",
    "    - What are they?\n",
    "    - How are arguments mapped to parameters?\n",
    "    - Positional arguments\n",
    "    - Keyword arguments\n",
    "4. Return values\n",
    "    - Returning simple values\n",
    "    - Returning complex values\n",
    "5. Default argument values\n",
    "    - How this works\n",
    "    - What to watch out for\n",
    "    - When would you want to use this \n",
    "    - When does Python use this?\n",
    "6. `*args`  (pronounced \"splat args\")\n",
    "    - What does it do?\n",
    "    - Why do we need it?\n",
    "    - How can we use it?\n",
    "7. `**kwargs` (pronounced \"double splat kwargs\")\n",
    "    - What does it do?\n",
    "    - Why do we need it?\n",
    "    - How can we use it?\n",
    "8. Local variables\n",
    "    - Locals vs. globals\n",
    "    - The `global` declaration (and why it's horrible)\n",
    "    - LEGB rule for scoping\n",
    "    - Locals vs. globals vs. builtins"
   ]
  },
  {
   "cell_type": "markdown",
   "metadata": {},
   "source": [
    "# What are functions?\n",
    "\n",
    "Functions are the verbs in a programming language.\n",
    "\n",
    "Every programming language comes with a bunch of functions.\n",
    "\n",
    "- `len`\n",
    "- `print`\n",
    "- `input`\n",
    "\n",
    "All of these are predefined functions that do things.  But what if we want to define our own function?\n",
    "\n",
    "Do we need functions?  We don't **need** functions, but we really want them.  Why?\n",
    "\n",
    "1. They let us \"DRY up\" our code, so that we don't repeat ourselves.\n",
    "2. They let us think at a higher level of abstraction."
   ]
  },
  {
   "cell_type": "markdown",
   "metadata": {},
   "source": [
    "# How do I define a function?\n",
    "\n",
    "Defining a function means: Teaching Python a new verb.  We do this in terms of other verbs that were already defined.\n",
    "\n",
    "We do this with the `def` keyword. The syntax looks like this:\n",
    "\n",
    "```python\n",
    "def NAME():\n",
    "    BODY_LINE_1\n",
    "    BODY_LINE_2\n",
    "    BODY_LINE_3\n",
    "```\n",
    "\n",
    "The name of a function can be any legal \"identifier\" name in Python -- any number of letters, numbers, and `_` characters, but the name cannot start with a number, and shouldn't start with an `_`.\n",
    "\n",
    "You must have parentheses after the function name; we'll fill those in later, but for now, they'll be blank.\n",
    "\n",
    "Then we have a colon, followed by any number of indented lines.\n",
    "\n",
    "The indented lines are the \"body\" of the function.  They can have any number of characters, we can have any number of lines, and the function body can contain just about any Python code you want -- including `if`, `for`, `open`, etc.\n",
    "\n",
    "When I define a function, I'm teaching Python a new verb. But I'm not actually *executing* or *running* the function just yet. I'm just defining it."
   ]
  },
  {
   "cell_type": "code",
   "execution_count": 1,
   "metadata": {},
   "outputs": [],
   "source": [
    "def hello():          # def + function name + () + :\n",
    "    print('Hello!')   # function body will print \"Hello!\" on the screen"
   ]
  },
  {
   "cell_type": "code",
   "execution_count": 2,
   "metadata": {},
   "outputs": [
    {
     "data": {
      "text/plain": [
       "function"
      ]
     },
     "execution_count": 2,
     "metadata": {},
     "output_type": "execute_result"
    }
   ],
   "source": [
    "# I can check to see if Python knows that \"hello\" is defined, and that it's a function\n",
    "\n",
    "type(hello)   "
   ]
  },
  {
   "cell_type": "code",
   "execution_count": 3,
   "metadata": {},
   "outputs": [
    {
     "data": {
      "text/plain": [
       "int"
      ]
     },
     "execution_count": 3,
     "metadata": {},
     "output_type": "execute_result"
    }
   ],
   "source": [
    "type(5)"
   ]
  },
  {
   "cell_type": "code",
   "execution_count": 4,
   "metadata": {},
   "outputs": [
    {
     "data": {
      "text/plain": [
       "str"
      ]
     },
     "execution_count": 4,
     "metadata": {},
     "output_type": "execute_result"
    }
   ],
   "source": [
    "type('abcd')"
   ]
  },
  {
   "cell_type": "markdown",
   "metadata": {},
   "source": [
    "# Functions are nouns, not just verbs\n",
    "\n",
    "One of the biggest things to understand in Python is that functions are nouns (data), not just verbs.\n",
    "\n",
    "They are assigned to variables, just like other data can be.\n",
    "\n",
    "When we say\n",
    "\n",
    "    x = 5\n",
    "    \n",
    "we're assigning the integer 5 to the variable `x`. And when we use `def` to define a function, we're assigning a \"function object\" to the variable `hello`.\n",
    "\n",
    "Who cares? Why do we need to think about function objects?\n",
    "\n",
    "A few reasons:\n",
    "\n",
    "1. If you use a variable name for a function, then you cannot use it for data, and vice versa.\n",
    "2. The rules for variable scoping (which we'll talk about later) are exactly the same for function scoping.\n",
    "3. We can pass functions around, as if they were data.\n",
    "4. *MOST IMPORTANT* when we define a function, we're defining the blueprint for what we want to happen when we execute it. The actual execution takes that blueprint, and then runs the code in a separate place. Every time we run a function, that happens inside of a special place in memory."
   ]
  },
  {
   "cell_type": "code",
   "execution_count": 7,
   "metadata": {},
   "outputs": [
    {
     "name": "stdout",
     "output_type": "stream",
     "text": [
      "<class 'function'>\n"
     ]
    }
   ],
   "source": [
    "def hello():\n",
    "    print('hello!')\n",
    "\n",
    "print(type(hello))"
   ]
  },
  {
   "cell_type": "code",
   "execution_count": 6,
   "metadata": {},
   "outputs": [],
   "source": [
    "# In PyCharm (or another non-Jupyter editor), you'll need to run the code that you wrote\n",
    "# Usually,  you can do that by pressing on the green triangle at the top of the screen\n",
    "\n",
    "# But... you'll likely get no output, even if it runs, because you didn't use print\n",
    "# In Jupyter, it automatically displays the output from \"type\" or anything else"
   ]
  },
  {
   "cell_type": "code",
   "execution_count": 8,
   "metadata": {},
   "outputs": [],
   "source": [
    "def hello5():\n",
    "    for i in range(5):\n",
    "        print('hello!')"
   ]
  },
  {
   "cell_type": "code",
   "execution_count": 9,
   "metadata": {},
   "outputs": [
    {
     "name": "stdout",
     "output_type": "stream",
     "text": [
      "hello!\n"
     ]
    }
   ],
   "source": [
    "# to run the function, I'm going to name the function and put () after it\n",
    "\n",
    "hello()      # () in this context mean: run the function named just before"
   ]
  },
  {
   "cell_type": "code",
   "execution_count": 10,
   "metadata": {},
   "outputs": [
    {
     "name": "stdout",
     "output_type": "stream",
     "text": [
      "hello!\n",
      "hello!\n",
      "hello!\n",
      "hello!\n",
      "hello!\n"
     ]
    }
   ],
   "source": [
    "hello5()"
   ]
  },
  {
   "cell_type": "code",
   "execution_count": 11,
   "metadata": {},
   "outputs": [
    {
     "name": "stdout",
     "output_type": "stream",
     "text": [
      "hello!\n",
      "hello!\n",
      "hello!\n"
     ]
    }
   ],
   "source": [
    "# I can also say:\n",
    "\n",
    "for i in range(3):\n",
    "    hello()"
   ]
  },
  {
   "cell_type": "markdown",
   "metadata": {},
   "source": [
    "# Exercise: First and last names\n",
    "\n",
    "1. Write a function, `greet`, that when run, asks the user to enter their first name and (separately) their last name.\n",
    "2. Each of these should be assigned to a different variable. You can get input from the user (as a string) via the `input` function.\n",
    "3. Print a nice greeting, along with the user's name.\n",
    "\n",
    "Some hints:\n",
    "1. Use `input` to get input from the user, as in: `name = input('Enter your name: ')`\n",
    "2. You can print things inside of an f-string, as in: `print(f'x = {x}')`"
   ]
  },
  {
   "cell_type": "code",
   "execution_count": 12,
   "metadata": {},
   "outputs": [
    {
     "name": "stdout",
     "output_type": "stream",
     "text": [
      "Enter your name: Reuven\n"
     ]
    }
   ],
   "source": [
    "name = input('Enter your name: ')"
   ]
  },
  {
   "cell_type": "code",
   "execution_count": 14,
   "metadata": {},
   "outputs": [
    {
     "name": "stdout",
     "output_type": "stream",
     "text": [
      "Reuven\n"
     ]
    }
   ],
   "source": [
    "print(name)   # the variable name has been assigned whatever the user typed (as a string)"
   ]
  },
  {
   "cell_type": "code",
   "execution_count": 15,
   "metadata": {},
   "outputs": [],
   "source": [
    "def greet():          # new function with \"def\", it's called \"greet\"\n",
    "    first_name = input('Enter first name: ').strip()    # get the first name, remove outer whitespace, assign\n",
    "    last_name = input('Enter last name: ').strip()      # get the first name, remove outer whitespace, assign\n",
    "    \n",
    "    print(f'Hello, {first_name} {last_name}!')\n",
    "    "
   ]
  },
  {
   "cell_type": "code",
   "execution_count": 16,
   "metadata": {},
   "outputs": [
    {
     "name": "stdout",
     "output_type": "stream",
     "text": [
      "Enter first name: Reuven\n",
      "Enter last name: Lerner\n",
      "Hello, Reuven Lerner!\n"
     ]
    }
   ],
   "source": [
    "greet()   # this executes the function "
   ]
  },
  {
   "cell_type": "code",
   "execution_count": 17,
   "metadata": {},
   "outputs": [],
   "source": [
    "def greet():\n",
    "    first_name = input('Enter First Name:').strip()\n",
    "    last_name = input('Enter Last Name:').strip()\n",
    "    print(f'Hello, {first_name} {last_name}!')"
   ]
  },
  {
   "cell_type": "code",
   "execution_count": 18,
   "metadata": {},
   "outputs": [
    {
     "name": "stdout",
     "output_type": "stream",
     "text": [
      "Enter First Name:abcd\n",
      "Enter Last Name:efgh\n",
      "Hello, abcd efgh!\n"
     ]
    }
   ],
   "source": [
    "greet()"
   ]
  },
  {
   "cell_type": "markdown",
   "metadata": {},
   "source": [
    "# Arguments and parameters\n",
    "\n",
    "I'd like to be able to call my function with different values (known as \"arguments\"). We see this in lots of other functions:\n",
    "\n",
    "    len('abcd')    # here, 'abcd' is an argument to the \"len\" function\n",
    "    \n",
    "We can do this by defining our function with a *parameter*. That is a variable that'll get its value defined by whoever calls the function."
   ]
  },
  {
   "cell_type": "code",
   "execution_count": 19,
   "metadata": {},
   "outputs": [
    {
     "name": "stdout",
     "output_type": "stream",
     "text": [
      "Hello, world!\n"
     ]
    }
   ],
   "source": [
    "def hello(name):    # now, we've defined hello with one parameter, called \"name\" -- a variable in our function\n",
    "    print(f'Hello, {name}!')  # we know that name will be defined with whatever argument the user passed\n",
    "    \n",
    "hello('world')      # the value/argument 'world' is assigned to the variable/parameter name"
   ]
  },
  {
   "cell_type": "code",
   "execution_count": 20,
   "metadata": {},
   "outputs": [
    {
     "name": "stdout",
     "output_type": "stream",
     "text": [
      "Hello, out there!\n"
     ]
    }
   ],
   "source": [
    "hello('out there')"
   ]
  },
  {
   "cell_type": "code",
   "execution_count": 21,
   "metadata": {},
   "outputs": [
    {
     "name": "stdout",
     "output_type": "stream",
     "text": [
      "Hello, Reuven!\n"
     ]
    }
   ],
   "source": [
    "hello('Reuven')"
   ]
  },
  {
   "cell_type": "code",
   "execution_count": 22,
   "metadata": {},
   "outputs": [],
   "source": [
    "# how is our argument assigned to our parameter?\n",
    "# what if we don't pass an argument? Or what if we pass too many arguments?"
   ]
  },
  {
   "cell_type": "code",
   "execution_count": 23,
   "metadata": {},
   "outputs": [
    {
     "ename": "TypeError",
     "evalue": "hello() missing 1 required positional argument: 'name'",
     "output_type": "error",
     "traceback": [
      "\u001b[0;31m---------------------------------------------------------------------------\u001b[0m",
      "\u001b[0;31mTypeError\u001b[0m                                 Traceback (most recent call last)",
      "Cell \u001b[0;32mIn [23], line 1\u001b[0m\n\u001b[0;32m----> 1\u001b[0m \u001b[43mhello\u001b[49m\u001b[43m(\u001b[49m\u001b[43m)\u001b[49m    \u001b[38;5;66;03m# I'm passing zero arguments, even though the function needs one\u001b[39;00m\n",
      "\u001b[0;31mTypeError\u001b[0m: hello() missing 1 required positional argument: 'name'"
     ]
    }
   ],
   "source": [
    "hello()    # I'm passing zero arguments, even though the function needs one"
   ]
  },
  {
   "cell_type": "code",
   "execution_count": 24,
   "metadata": {},
   "outputs": [
    {
     "ename": "TypeError",
     "evalue": "hello() takes 1 positional argument but 2 were given",
     "output_type": "error",
     "traceback": [
      "\u001b[0;31m---------------------------------------------------------------------------\u001b[0m",
      "\u001b[0;31mTypeError\u001b[0m                                 Traceback (most recent call last)",
      "Cell \u001b[0;32mIn [24], line 1\u001b[0m\n\u001b[0;32m----> 1\u001b[0m \u001b[43mhello\u001b[49m\u001b[43m(\u001b[49m\u001b[38;5;124;43m'\u001b[39;49m\u001b[38;5;124;43ma\u001b[39;49m\u001b[38;5;124;43m'\u001b[39;49m\u001b[43m,\u001b[49m\u001b[43m \u001b[49m\u001b[38;5;124;43m'\u001b[39;49m\u001b[38;5;124;43mb\u001b[39;49m\u001b[38;5;124;43m'\u001b[39;49m\u001b[43m)\u001b[49m \u001b[38;5;66;03m# I'm passing two arguments, even though the function needs one\u001b[39;00m\n",
      "\u001b[0;31mTypeError\u001b[0m: hello() takes 1 positional argument but 2 were given"
     ]
    }
   ],
   "source": [
    "hello('a', 'b') # I'm passing two arguments, even though the function needs one"
   ]
  },
  {
   "cell_type": "markdown",
   "metadata": {},
   "source": [
    "# Exercise: `add`\n",
    "\n",
    "1. Write a function, `add`, that takes two arguments. This means you'll need to define it with two parameters. (You can call them `first` and `second`, if you want.)\n",
    "2. The function should print a string showing the addition of these arguments.\n",
    "3. Call your function several times. Each time, pass different arguments.\n",
    "\n",
    "Examples:\n",
    "\n",
    "    add(2, 3)   # should print \"2 + 3 = 5\"\n",
    "    add(5, 7)   # should print \"5 + 7 = 12\"\n",
    "    \n",
    "    "
   ]
  },
  {
   "cell_type": "code",
   "execution_count": 25,
   "metadata": {},
   "outputs": [],
   "source": [
    "def add(first, second):\n",
    "    total = first + second                  # assign the sum to a new variable\n",
    "    print(f'{first} + {second} = {total}')  # print the full equation"
   ]
  },
  {
   "cell_type": "code",
   "execution_count": 26,
   "metadata": {},
   "outputs": [
    {
     "ename": "TypeError",
     "evalue": "add() missing 2 required positional arguments: 'first' and 'second'",
     "output_type": "error",
     "traceback": [
      "\u001b[0;31m---------------------------------------------------------------------------\u001b[0m",
      "\u001b[0;31mTypeError\u001b[0m                                 Traceback (most recent call last)",
      "Cell \u001b[0;32mIn [26], line 1\u001b[0m\n\u001b[0;32m----> 1\u001b[0m \u001b[43madd\u001b[49m\u001b[43m(\u001b[49m\u001b[43m)\u001b[49m  \u001b[38;5;66;03m# what if I just call add, without any arguments?\u001b[39;00m\n",
      "\u001b[0;31mTypeError\u001b[0m: add() missing 2 required positional arguments: 'first' and 'second'"
     ]
    }
   ],
   "source": [
    "add()  # what if I just call add, without any arguments?"
   ]
  },
  {
   "cell_type": "code",
   "execution_count": 27,
   "metadata": {},
   "outputs": [
    {
     "name": "stdout",
     "output_type": "stream",
     "text": [
      "2 + 3 = 5\n"
     ]
    }
   ],
   "source": [
    "# positional arguments are assigned to parameters in the order that they're passed\n",
    "\n",
    "add(2, 3)    # 2 --> first, 3 --> second"
   ]
  },
  {
   "cell_type": "code",
   "execution_count": 28,
   "metadata": {},
   "outputs": [
    {
     "name": "stdout",
     "output_type": "stream",
     "text": [
      "5 + 7 = 12\n"
     ]
    }
   ],
   "source": [
    "add(5, 7)"
   ]
  },
  {
   "cell_type": "markdown",
   "metadata": {},
   "source": [
    "# How can I ensure that I get the right kinds of arguments?\n",
    "\n",
    "In many programming languages, when you define a function, you indicate what types of values can be passed as arguments, and thus assigned to your parameters.\n",
    "\n",
    "If the user passed arguments that don't match the types of the parameters, you can get an error.\n",
    "\n",
    "Python doesn't work this way. You can pass any type you want as any argument to any parameter.\n",
    "\n",
    "There is a new-ish mechanism called \"type hints\" that tries to make this harder and rarer. But it requires an external program; Python itself doesn't care less."
   ]
  },
  {
   "cell_type": "code",
   "execution_count": 29,
   "metadata": {},
   "outputs": [
    {
     "name": "stdout",
     "output_type": "stream",
     "text": [
      "3 + 5 = 8\n"
     ]
    }
   ],
   "source": [
    "# I can use my \"add\" function on any values that can be +'ed together\n",
    "\n",
    "add(3, 5)"
   ]
  },
  {
   "cell_type": "code",
   "execution_count": 30,
   "metadata": {},
   "outputs": [
    {
     "name": "stdout",
     "output_type": "stream",
     "text": [
      "abcd + efgh = abcdefgh\n"
     ]
    }
   ],
   "source": [
    "add('abcd', 'efgh')"
   ]
  },
  {
   "cell_type": "code",
   "execution_count": 31,
   "metadata": {},
   "outputs": [
    {
     "name": "stdout",
     "output_type": "stream",
     "text": [
      "[10, 20, 30] + [40, 50, 60, 70] = [10, 20, 30, 40, 50, 60, 70]\n"
     ]
    }
   ],
   "source": [
    "add([10, 20, 30], [40, 50, 60, 70])"
   ]
  },
  {
   "cell_type": "markdown",
   "metadata": {},
   "source": [
    "# Next up\n",
    "\n",
    "- Keyword arguments\n",
    "- Return values\n",
    "- Default arguments\n",
    "\n",
    "Return at :41"
   ]
  },
  {
   "cell_type": "code",
   "execution_count": 32,
   "metadata": {},
   "outputs": [
    {
     "name": "stdout",
     "output_type": "stream",
     "text": [
      "5 + 10 = 15\n"
     ]
    }
   ],
   "source": [
    "# our add function takes two arguments\n",
    "# we've seen that we can pass *positional* arguments\n",
    "# again: that means that the arguments are assigned to the parameters in the corresponding positions\n",
    "\n",
    "# parameters: first second\n",
    "# arguments:  5     10\n",
    "\n",
    "add(5, 10)"
   ]
  },
  {
   "cell_type": "code",
   "execution_count": 33,
   "metadata": {},
   "outputs": [
    {
     "name": "stdout",
     "output_type": "stream",
     "text": [
      "5 + 10 = 15\n"
     ]
    }
   ],
   "source": [
    "# it turns out that there's another way to pass arguments to a function\n",
    "# that would be: keyword arguments\n",
    "\n",
    "# keyword arguments look like this: name=value\n",
    "# in this way, we can tell Python which parameter should be assigned our argument value\n",
    "# the position (i.e., order) of the keyword arguments doesn't matter.\n",
    "\n",
    "# parameters:  first    second\n",
    "# arguments      5        10\n",
    "\n",
    "add(first=5, second=10)  # now using keyword arguments"
   ]
  },
  {
   "cell_type": "code",
   "execution_count": 34,
   "metadata": {},
   "outputs": [
    {
     "name": "stdout",
     "output_type": "stream",
     "text": [
      "10 + 5 = 15\n"
     ]
    }
   ],
   "source": [
    "\n",
    "# parameters:  first    second\n",
    "# arguments     10         5\n",
    "\n",
    "add(second=5, first=10)  # now using keyword arguments"
   ]
  },
  {
   "cell_type": "markdown",
   "metadata": {},
   "source": [
    "# Some questions about positional vs. keyword arguments\n",
    "\n",
    "1. Can we use both types of arguments in the same function call? **YES**, but all positional arguments must come before all keyword arguments.\n",
    "2. Can a function say that certain parameters can only get certain kinds of arguments? That is, can I define a function whose parameters only work with positional arguments, or ony work with keyword arguments? Yes, but that's kind of advanced.\n",
    "3. Why would I use either (or both) of these types? What's the advantage?\n",
    "\n",
    "- Positional arguments are easier to understand and work with\n",
    "- But they tend to fall down when you have a lot of them, or when you have many parameters with defaults (making them optional)\n",
    "- Keyword arguments are clearer, because they're explicit\n",
    "- But they can be clumsier to write\n",
    "\n",
    "Most of the time, most people will use positional arguments. But there are exceptions."
   ]
  },
  {
   "cell_type": "code",
   "execution_count": 35,
   "metadata": {},
   "outputs": [
    {
     "name": "stdout",
     "output_type": "stream",
     "text": [
      "5 + 10 = 15\n"
     ]
    }
   ],
   "source": [
    "# can we mix positional + keyword? Yes, in that order\n",
    "\n",
    "add(5, second=10)   # positional before keyword = OK!"
   ]
  },
  {
   "cell_type": "code",
   "execution_count": 36,
   "metadata": {},
   "outputs": [
    {
     "ename": "SyntaxError",
     "evalue": "positional argument follows keyword argument (1175009695.py, line 1)",
     "output_type": "error",
     "traceback": [
      "\u001b[0;36m  Cell \u001b[0;32mIn [36], line 1\u001b[0;36m\u001b[0m\n\u001b[0;31m    add(first=5, 10)    # positional *AFTER* keyword? BAD!\u001b[0m\n\u001b[0m                   ^\u001b[0m\n\u001b[0;31mSyntaxError\u001b[0m\u001b[0;31m:\u001b[0m positional argument follows keyword argument\n"
     ]
    }
   ],
   "source": [
    "add(first=5, 10)    # positional *AFTER* keyword? BAD!"
   ]
  },
  {
   "cell_type": "markdown",
   "metadata": {},
   "source": [
    "# Return values\n",
    "\n",
    "When we call a function in Python, we often want to get a value back from that function.\n",
    "\n",
    "For example:\n",
    "\n",
    "    len('abcd')   # this \"returns\" the value 4\n",
    "    \n",
    "We can capture the return value in a variable, or another function, or `print`.    \n",
    "\n",
    "    print(len('abcd'))  # prints 4\n",
    "\n",
    "    x = len('abcd')     # assigns x the value 4\n",
    "    \n",
    "Right now, our functions don't return any value. (Technically, they return a special value called `None`, because we didn't explicitly return anything.)\n",
    "\n",
    "If we want our function to return something, we need to say so, with the special keyword `return`, and any value we want to return."
   ]
  },
  {
   "cell_type": "code",
   "execution_count": 37,
   "metadata": {},
   "outputs": [],
   "source": [
    "def hello(name):\n",
    "    return f'Hello, {name}!'    # notice -- here, I'm returning a string, not printing it"
   ]
  },
  {
   "cell_type": "code",
   "execution_count": 38,
   "metadata": {},
   "outputs": [],
   "source": [
    "x = hello('Reuven')"
   ]
  },
  {
   "cell_type": "code",
   "execution_count": 39,
   "metadata": {},
   "outputs": [
    {
     "name": "stdout",
     "output_type": "stream",
     "text": [
      "Hello, Reuven!\n"
     ]
    }
   ],
   "source": [
    "print(x)"
   ]
  },
  {
   "cell_type": "code",
   "execution_count": 40,
   "metadata": {},
   "outputs": [
    {
     "name": "stdout",
     "output_type": "stream",
     "text": [
      "Hello, Reuven!\n"
     ]
    }
   ],
   "source": [
    "print(hello('Reuven'))"
   ]
  },
  {
   "cell_type": "markdown",
   "metadata": {},
   "source": [
    "# Return values vs. printouts\n",
    "\n",
    "It's almost always better to use `return` to return a value from a function than to `print`. \n",
    "\n",
    "We can always print a return value, but we cannot grab (into a variable or function) a printed value.\n",
    "\n",
    "Of course, it's OK to use `print` in a function if the function is meant to print things, or if you're doing debugging via the `print` function.\n",
    "\n",
    "What can you return from a function? **ABSOLUTELY ANY Python VALUE**.  Integers, strings, lists, tuples, dicts, modules, even functions!"
   ]
  },
  {
   "cell_type": "markdown",
   "metadata": {},
   "source": [
    "# Exercise: Smallest and biggest\n",
    "\n",
    "1. Write a function that takes a single argument, a list of numbers. We'll call its parameter `numbers`. \n",
    "2. The function will return a list of two elements, the smallest and largest numbers in `numbers`.\n",
    "3. The function will start off by defining that list of two elements as `numbers[0]`, the first element.\n",
    "4. Go through each element of `numbers`\n",
    "    - If the current value is smaller than the current smallest, then replace the smallest value\n",
    "    - If the current value is bigger than the current biggest, then replace the biggest value\n",
    "5. The function should return the two-element list with the smallest and biggest values.\n",
    "\n",
    "Example:\n",
    "\n",
    "    smallest_and_biggest([10, 20, 30, 5, 8, 12])   # returns the list [5, 30]\n",
    "    "
   ]
  },
  {
   "cell_type": "code",
   "execution_count": 42,
   "metadata": {},
   "outputs": [
    {
     "data": {
      "text/plain": [
       "[5, 30]"
      ]
     },
     "execution_count": 42,
     "metadata": {},
     "output_type": "execute_result"
    }
   ],
   "source": [
    "def smallest_and_biggest(numbers):\n",
    "    smallest = numbers[0]    # assume that the smallest number in numbers is its first element\n",
    "    biggest = numbers[0]     # assume that the biggest number in numbers is its first element\n",
    "    \n",
    "    for one_number in numbers[1:]:   # start with index 1 in numbers\n",
    "        if one_number < smallest:\n",
    "            smallest = one_number\n",
    "            \n",
    "        if one_number > biggest:\n",
    "            biggest = one_number\n",
    "\n",
    "    return [smallest, biggest]  # return a list of two elements with the smallest and biggest numbers\n",
    "\n",
    "\n",
    "\n",
    "\n",
    "smallest_and_biggest([10, 20, 30, 5, 8, 12])   # this list was passed as a positional argument"
   ]
  },
  {
   "cell_type": "code",
   "execution_count": 48,
   "metadata": {},
   "outputs": [
    {
     "data": {
      "text/plain": [
       "'rubude'"
      ]
     },
     "execution_count": 48,
     "metadata": {},
     "output_type": "execute_result"
    }
   ],
   "source": [
    "def ubi_dub(word):\n",
    "    for one_vowel in 'aeiou':\n",
    "        w = word.replace(one_vowel, 'ub' + one_vowel)   # we need 2 arguments, separated by a comma (,)\n",
    "    return w\n",
    "\n",
    "ubi_dub('rude')"
   ]
  },
  {
   "cell_type": "code",
   "execution_count": 46,
   "metadata": {},
   "outputs": [
    {
     "name": "stdout",
     "output_type": "stream",
     "text": [
      "Enter your name: Reuven Lerner\n"
     ]
    },
    {
     "ename": "NameError",
     "evalue": "name 'surname' is not defined",
     "output_type": "error",
     "traceback": [
      "\u001b[0;31m---------------------------------------------------------------------------\u001b[0m",
      "\u001b[0;31mNameError\u001b[0m                                 Traceback (most recent call last)",
      "Cell \u001b[0;32mIn [46], line 5\u001b[0m\n\u001b[1;32m      3\u001b[0m     \u001b[38;5;28;01mreturn\u001b[39;00m \u001b[38;5;124mf\u001b[39m\u001b[38;5;124m'\u001b[39m\u001b[38;5;132;01m{\u001b[39;00mname\u001b[38;5;132;01m}\u001b[39;00m\u001b[38;5;124m+\u001b[39m\u001b[38;5;132;01m{\u001b[39;00msurname\u001b[38;5;132;01m}\u001b[39;00m\u001b[38;5;124m'\u001b[39m\n\u001b[1;32m      4\u001b[0m     \u001b[38;5;28mprint\u001b[39m(\u001b[38;5;124mf\u001b[39m\u001b[38;5;124m'\u001b[39m\u001b[38;5;124mNice to meet you \u001b[39m\u001b[38;5;132;01m{\u001b[39;00mname\u001b[38;5;132;01m}\u001b[39;00m\u001b[38;5;124m \u001b[39m\u001b[38;5;132;01m{\u001b[39;00msurname\u001b[38;5;132;01m}\u001b[39;00m\u001b[38;5;124m'\u001b[39m)\n\u001b[0;32m----> 5\u001b[0m \u001b[43mgreet\u001b[49m\u001b[43m(\u001b[49m\u001b[43m)\u001b[49m\n",
      "Cell \u001b[0;32mIn [46], line 3\u001b[0m, in \u001b[0;36mgreet\u001b[0;34m()\u001b[0m\n\u001b[1;32m      1\u001b[0m \u001b[38;5;28;01mdef\u001b[39;00m \u001b[38;5;21mgreet\u001b[39m():\n\u001b[1;32m      2\u001b[0m     name \u001b[38;5;241m=\u001b[39m \u001b[38;5;28minput\u001b[39m(\u001b[38;5;124m\"\u001b[39m\u001b[38;5;124mEnter your name: \u001b[39m\u001b[38;5;124m\"\u001b[39m)\n\u001b[0;32m----> 3\u001b[0m     \u001b[38;5;28;01mreturn\u001b[39;00m \u001b[38;5;124mf\u001b[39m\u001b[38;5;124m'\u001b[39m\u001b[38;5;132;01m{\u001b[39;00mname\u001b[38;5;132;01m}\u001b[39;00m\u001b[38;5;124m+\u001b[39m\u001b[38;5;132;01m{\u001b[39;00m\u001b[43msurname\u001b[49m\u001b[38;5;132;01m}\u001b[39;00m\u001b[38;5;124m'\u001b[39m\n\u001b[1;32m      4\u001b[0m     \u001b[38;5;28mprint\u001b[39m(\u001b[38;5;124mf\u001b[39m\u001b[38;5;124m'\u001b[39m\u001b[38;5;124mNice to meet you \u001b[39m\u001b[38;5;132;01m{\u001b[39;00mname\u001b[38;5;132;01m}\u001b[39;00m\u001b[38;5;124m \u001b[39m\u001b[38;5;132;01m{\u001b[39;00msurname\u001b[38;5;132;01m}\u001b[39;00m\u001b[38;5;124m'\u001b[39m)\n",
      "\u001b[0;31mNameError\u001b[0m: name 'surname' is not defined"
     ]
    }
   ],
   "source": [
    "def greet():\n",
    "    name = input(\"Enter your name: \")\n",
    "    return f'{name}+{surname}'\n",
    "    print(f'Nice to meet you {name} {surname}')\n",
    "greet()"
   ]
  },
  {
   "cell_type": "markdown",
   "metadata": {},
   "source": [
    "# Arguments and parameters\n",
    "\n",
    "If I assign a value to a variable:\n",
    "\n",
    "    x = 10\n",
    "    \n",
    "We can all agree that the variable is `x` and the value is 10.\n",
    "\n",
    "When we call a function, we have values (and they're known as \"arguments\").  We also have variables (and they're known as \"parameters\"). \n",
    "\n",
    "- What's special about arguments, as opposed to other values? They are passed to the function when we invoke it. \n",
    "- What's special about parameters, as opposed to other variables? They are assigned values from the arguments.\n",
    "\n"
   ]
  },
  {
   "cell_type": "code",
   "execution_count": 49,
   "metadata": {},
   "outputs": [
    {
     "data": {
      "text/plain": [
       "8"
      ]
     },
     "execution_count": 49,
     "metadata": {},
     "output_type": "execute_result"
    }
   ],
   "source": [
    "def add(first, second):     # in this function, first and second are parameters (variables)\n",
    "    return first + second\n",
    "\n",
    "# where do we assign these variables? When we call the function, in the parentheses\n",
    "\n",
    "add(3, 5)   # I'm passing the arguments 3 and 5 to the function add.  There, the values will be assigned to parameters"
   ]
  },
  {
   "cell_type": "markdown",
   "metadata": {},
   "source": [
    "# Default argument values\n",
    "\n",
    "Normally, if a function has two parameters, then we need to call it with two arguments.\n",
    "\n",
    "But ... what if we don't wnat to?  It turns out that a function can be defined such that one or more parameters have *default argument values*.  Meaning: If you don't pass an argument for that parameter, then the parameter still has an argument it can use. The function won't raise an error."
   ]
  },
  {
   "cell_type": "code",
   "execution_count": 50,
   "metadata": {},
   "outputs": [
    {
     "data": {
      "text/plain": [
       "5"
      ]
     },
     "execution_count": 50,
     "metadata": {},
     "output_type": "execute_result"
    }
   ],
   "source": [
    "def add(first, second):\n",
    "    return first + second\n",
    "\n",
    "add(2, 3)   # this will work!"
   ]
  },
  {
   "cell_type": "code",
   "execution_count": 51,
   "metadata": {},
   "outputs": [
    {
     "ename": "TypeError",
     "evalue": "add() missing 1 required positional argument: 'second'",
     "output_type": "error",
     "traceback": [
      "\u001b[0;31m---------------------------------------------------------------------------\u001b[0m",
      "\u001b[0;31mTypeError\u001b[0m                                 Traceback (most recent call last)",
      "Cell \u001b[0;32mIn [51], line 3\u001b[0m\n\u001b[1;32m      1\u001b[0m \u001b[38;5;66;03m# what about this?\u001b[39;00m\n\u001b[0;32m----> 3\u001b[0m \u001b[43madd\u001b[49m\u001b[43m(\u001b[49m\u001b[38;5;241;43m2\u001b[39;49m\u001b[43m)\u001b[49m  \u001b[38;5;66;03m# this will fail!\u001b[39;00m\n",
      "\u001b[0;31mTypeError\u001b[0m: add() missing 1 required positional argument: 'second'"
     ]
    }
   ],
   "source": [
    "# what about this?\n",
    "\n",
    "add(2)  # this will fail!"
   ]
  },
  {
   "cell_type": "code",
   "execution_count": 52,
   "metadata": {},
   "outputs": [],
   "source": [
    "# we can fix this in our function definition\n",
    "# we can say: If no argument was passed to \"second\", it should have a default value of 10\n",
    "\n",
    "def add(first, second=10):   # by using =10 after second, we give it a default value\n",
    "    return first + second\n",
    "\n"
   ]
  },
  {
   "cell_type": "code",
   "execution_count": 54,
   "metadata": {},
   "outputs": [
    {
     "data": {
      "text/plain": [
       "5"
      ]
     },
     "execution_count": 54,
     "metadata": {},
     "output_type": "execute_result"
    }
   ],
   "source": [
    "# parameters:   first     second\n",
    "# arguments:     2          3\n",
    "\n",
    "add(2, 3)    "
   ]
  },
  {
   "cell_type": "code",
   "execution_count": 55,
   "metadata": {},
   "outputs": [
    {
     "data": {
      "text/plain": [
       "12"
      ]
     },
     "execution_count": 55,
     "metadata": {},
     "output_type": "execute_result"
    }
   ],
   "source": [
    "# parameters:   first    second\n",
    "# arguments:      2        10\n",
    "\n",
    "add(2)"
   ]
  },
  {
   "cell_type": "markdown",
   "metadata": {},
   "source": [
    "# Some questions about default argument values\n",
    "\n",
    "1. Can you have more than one default argument value? Yes, but all parameters with defaults must come after all parameters without defaults.  Stated differently: All mandatory parameters come before all optional parameters.\n",
    "2. Can you use any value as a default? Yes, but you should stick to immutable values (e.g., integers and strings) and stay far, far away from mutable values (e.g., lists and dicts) unless you want to endure horrible pain in debugging your code."
   ]
  },
  {
   "cell_type": "code",
   "execution_count": 56,
   "metadata": {},
   "outputs": [
    {
     "data": {
      "text/plain": [
       "12"
      ]
     },
     "execution_count": 56,
     "metadata": {},
     "output_type": "execute_result"
    }
   ],
   "source": [
    "add(2)   # in Jupyter, I'll see a result\n"
   ]
  },
  {
   "cell_type": "code",
   "execution_count": 57,
   "metadata": {},
   "outputs": [],
   "source": [
    "# outside of Jupyter, that print NOTHING AT ALL without the \"print\" function"
   ]
  },
  {
   "cell_type": "markdown",
   "metadata": {},
   "source": [
    "# Keyword arguments and default arguments\n",
    "\n",
    "Keyword arguments are when we *call* a function, and we pass `name=value`. This determines which parameter will be assigned our argument.\n",
    "\n",
    "Default arguments are when we *define* a function, and we define the parameter in the style of `name=value`. This determines what default value will be used if we don't pass a value to the parameter.\n",
    "\n",
    "In both cases, the stuff with `=` comes last: Positional arguments come before keyword arguments (when calling a function), and mandatory parameters come before optional parameters (when defining a function). But they aren't the same."
   ]
  },
  {
   "cell_type": "markdown",
   "metadata": {},
   "source": [
    "# Exercise: Count characters\n",
    "\n",
    "1. Define a function, `count_characters`, that takes two arguments:\n",
    "    - A string, `s`\n",
    "    - An optional string, `to_count`, with a default value of the vowels (a, e, i, o, and u)\n",
    "2. The function will return an integer -- the number of times that any of the countable characters occur in `s`.\n",
    "\n",
    "Example:\n",
    "\n",
    "    count_characters('hello')           # no 2nd argument, so we're counting vowels, returns 2\n",
    "    count_characters('hello', 'ghij')   # 2nd argument is 'ghij', we return 1, since there's 1 h"
   ]
  },
  {
   "cell_type": "code",
   "execution_count": 58,
   "metadata": {},
   "outputs": [
    {
     "data": {
      "text/plain": [
       "4"
      ]
     },
     "execution_count": 58,
     "metadata": {},
     "output_type": "execute_result"
    }
   ],
   "source": [
    "# in Jupyter, the final value in a cell is displayed.\n",
    "\n",
    "def add(f, s):\n",
    "    return f + s\n",
    "\n",
    "add(1, 3)   # in Jupyter *ONLY*, we'll see this result"
   ]
  },
  {
   "cell_type": "code",
   "execution_count": 59,
   "metadata": {},
   "outputs": [
    {
     "name": "stdout",
     "output_type": "stream",
     "text": [
      "4\n"
     ]
    }
   ],
   "source": [
    "def add(f, s):\n",
    "    return f + s\n",
    "\n",
    "print(add(1, 3))  # this is the solution in real-world, non-Jupyter settings"
   ]
  },
  {
   "cell_type": "code",
   "execution_count": 60,
   "metadata": {},
   "outputs": [],
   "source": [
    "def count_characters(s, to_count):\n",
    "    count = 0\n",
    "\n",
    "    for one_character in s:             # go through the string s\n",
    "        if one_character in to_count:   # did we find one_character in to_count?\n",
    "            count += 1                  # if so, then add 1 to count!\n",
    "            \n",
    "    return count"
   ]
  },
  {
   "cell_type": "code",
   "execution_count": 61,
   "metadata": {},
   "outputs": [
    {
     "data": {
      "text/plain": [
       "2"
      ]
     },
     "execution_count": 61,
     "metadata": {},
     "output_type": "execute_result"
    }
   ],
   "source": [
    "count_characters('hello', 'aeiou')  # how many vowels in 'hello'?"
   ]
  },
  {
   "cell_type": "code",
   "execution_count": 62,
   "metadata": {},
   "outputs": [
    {
     "data": {
      "text/plain": [
       "1"
      ]
     },
     "execution_count": 62,
     "metadata": {},
     "output_type": "execute_result"
    }
   ],
   "source": [
    "count_characters('hello', 'ghi')  # how many times do we have g, h, and/or i in hello?"
   ]
  },
  {
   "cell_type": "code",
   "execution_count": 63,
   "metadata": {},
   "outputs": [
    {
     "ename": "TypeError",
     "evalue": "count_characters() missing 1 required positional argument: 'to_count'",
     "output_type": "error",
     "traceback": [
      "\u001b[0;31m---------------------------------------------------------------------------\u001b[0m",
      "\u001b[0;31mTypeError\u001b[0m                                 Traceback (most recent call last)",
      "Cell \u001b[0;32mIn [63], line 1\u001b[0m\n\u001b[0;32m----> 1\u001b[0m \u001b[43mcount_characters\u001b[49m\u001b[43m(\u001b[49m\u001b[38;5;124;43m'\u001b[39;49m\u001b[38;5;124;43mhello\u001b[39;49m\u001b[38;5;124;43m'\u001b[39;49m\u001b[43m)\u001b[49m   \u001b[38;5;66;03m# what happens if I pass just one argument\u001b[39;00m\n",
      "\u001b[0;31mTypeError\u001b[0m: count_characters() missing 1 required positional argument: 'to_count'"
     ]
    }
   ],
   "source": [
    "count_characters('hello')   # what happens if I pass just one argument"
   ]
  },
  {
   "cell_type": "code",
   "execution_count": 64,
   "metadata": {},
   "outputs": [],
   "source": [
    "# let's fix this with a default argument\n",
    "\n",
    "def count_characters(s, to_count='aeiou'):    # now we have a default\n",
    "    count = 0\n",
    "\n",
    "    for one_character in s:             # go through the string s\n",
    "        if one_character in to_count:   # did we find one_character in to_count?\n",
    "            count += 1                  # if so, then add 1 to count!\n",
    "            \n",
    "    return count"
   ]
  },
  {
   "cell_type": "code",
   "execution_count": 65,
   "metadata": {},
   "outputs": [
    {
     "data": {
      "text/plain": [
       "2"
      ]
     },
     "execution_count": 65,
     "metadata": {},
     "output_type": "execute_result"
    }
   ],
   "source": [
    "count_characters('hello')"
   ]
  },
  {
   "cell_type": "code",
   "execution_count": 70,
   "metadata": {},
   "outputs": [],
   "source": [
    "def count_characters(s, to_count='aeiou'):   # default of 'aeiou'\n",
    "#    to_count = 'aeiou'      # this means: I don't care what the user passed. We're only going to count vowels!\n",
    "\n",
    "    count = 0\n",
    "\n",
    "    for one_vowel in to_count:\n",
    "        if one_vowel in to_count:\n",
    "            count += 1\n",
    "            \n",
    "    return count"
   ]
  },
  {
   "cell_type": "code",
   "execution_count": 69,
   "metadata": {},
   "outputs": [
    {
     "data": {
      "text/plain": [
       "5"
      ]
     },
     "execution_count": 69,
     "metadata": {},
     "output_type": "execute_result"
    }
   ],
   "source": [
    "count_characters('hello', 'aeiou')"
   ]
  },
  {
   "cell_type": "code",
   "execution_count": 71,
   "metadata": {},
   "outputs": [],
   "source": [
    "# what is the value of to_count?\n",
    "# what is the *type* of to_count?\n",
    "\n",
    "\n",
    "def count_characters(s, to_count='a, e, i, o, u'):   # probably not what you want...\n",
    "    count = 0\n",
    "\n",
    "    for one_character in s:             # go through the string s\n",
    "        if one_character in to_count:   # did we find one_character in to_count?\n",
    "            count += 1                  # if so, then add 1 to count!\n",
    "            \n",
    "    return count    "
   ]
  },
  {
   "cell_type": "code",
   "execution_count": 73,
   "metadata": {},
   "outputs": [
    {
     "data": {
      "text/plain": [
       "2"
      ]
     },
     "execution_count": 73,
     "metadata": {},
     "output_type": "execute_result"
    }
   ],
   "source": [
    "count_characters('hello')"
   ]
  },
  {
   "cell_type": "code",
   "execution_count": 74,
   "metadata": {},
   "outputs": [
    {
     "data": {
      "text/plain": [
       "3"
      ]
     },
     "execution_count": 74,
     "metadata": {},
     "output_type": "execute_result"
    }
   ],
   "source": [
    "count_characters('hello', 'hijkl')"
   ]
  },
  {
   "cell_type": "code",
   "execution_count": 75,
   "metadata": {},
   "outputs": [
    {
     "data": {
      "text/plain": [
       "8"
      ]
     },
     "execution_count": 75,
     "metadata": {},
     "output_type": "execute_result"
    }
   ],
   "source": [
    "count_characters('hello out there')"
   ]
  },
  {
   "cell_type": "markdown",
   "metadata": {},
   "source": [
    "# Next up:\n",
    "\n",
    "1. `*args`, which grabs all otherwise unclaimed positional arguments\n",
    "2. `**kwargs`, which grabs all otherwise unclaimed keyword arguments\n",
    "3. Local vs. global and LEGB\n",
    "\n",
    "We'll resume at :49\n",
    "\n",
    "** START VIDEO RECORDING AGAIN ** "
   ]
  },
  {
   "cell_type": "markdown",
   "metadata": {},
   "source": [
    "# How can a function take any number of arguments?\n",
    "\n",
    "Let's say I want to have a function that sums numbers. (There's already a builtin Python function, `sum`, that does this.) My function will take a list of numbers, and will return its sum.\n",
    "\n"
   ]
  },
  {
   "cell_type": "code",
   "execution_count": 76,
   "metadata": {},
   "outputs": [],
   "source": [
    "def mysum(numbers):    # we'll assume that numbers is a list of integers\n",
    "    total = 0          # set up total to be 0\n",
    "    \n",
    "    for one_number in numbers:   # go through each element of numbers\n",
    "        total += one_number      # add the current value to total\n",
    "        \n",
    "    return total        "
   ]
  },
  {
   "cell_type": "code",
   "execution_count": 77,
   "metadata": {},
   "outputs": [
    {
     "data": {
      "text/plain": [
       "150"
      ]
     },
     "execution_count": 77,
     "metadata": {},
     "output_type": "execute_result"
    }
   ],
   "source": [
    "mysum([10, 20, 30, 40, 50])"
   ]
  },
  {
   "cell_type": "markdown",
   "metadata": {},
   "source": [
    "There is nothing technically wrong with this function!\n",
    "\n",
    "But... what if we want to pass multiple numbers as separate arguments, rather than as part of a list?\n",
    "\n",
    "In other words, I want to say:\n",
    "\n",
    "    mysum(10, 20, 30, 40, 50)\n",
    "    \n",
    "How many parameters do I need in this function?\n",
    "\n",
    "I could say:"
   ]
  },
  {
   "cell_type": "code",
   "execution_count": 78,
   "metadata": {},
   "outputs": [],
   "source": [
    "def mysum(a, b, c, d, e):\n",
    "    return a + b + c + d + e"
   ]
  },
  {
   "cell_type": "code",
   "execution_count": 79,
   "metadata": {},
   "outputs": [
    {
     "data": {
      "text/plain": [
       "150"
      ]
     },
     "execution_count": 79,
     "metadata": {},
     "output_type": "execute_result"
    }
   ],
   "source": [
    "mysum(10, 20, 30, 40, 50)"
   ]
  },
  {
   "cell_type": "code",
   "execution_count": 80,
   "metadata": {},
   "outputs": [
    {
     "ename": "TypeError",
     "evalue": "mysum() missing 1 required positional argument: 'e'",
     "output_type": "error",
     "traceback": [
      "\u001b[0;31m---------------------------------------------------------------------------\u001b[0m",
      "\u001b[0;31mTypeError\u001b[0m                                 Traceback (most recent call last)",
      "Cell \u001b[0;32mIn [80], line 1\u001b[0m\n\u001b[0;32m----> 1\u001b[0m \u001b[43mmysum\u001b[49m\u001b[43m(\u001b[49m\u001b[38;5;241;43m10\u001b[39;49m\u001b[43m,\u001b[49m\u001b[43m \u001b[49m\u001b[38;5;241;43m20\u001b[39;49m\u001b[43m,\u001b[49m\u001b[43m \u001b[49m\u001b[38;5;241;43m30\u001b[39;49m\u001b[43m,\u001b[49m\u001b[43m \u001b[49m\u001b[38;5;241;43m40\u001b[39;49m\u001b[43m)\u001b[49m\n",
      "\u001b[0;31mTypeError\u001b[0m: mysum() missing 1 required positional argument: 'e'"
     ]
    }
   ],
   "source": [
    "mysum(10, 20, 30, 40)"
   ]
  },
  {
   "cell_type": "code",
   "execution_count": 81,
   "metadata": {},
   "outputs": [],
   "source": [
    "# give every parameter a default of 0, and we're fine\n",
    "\n",
    "def mysum(a=0, b=0, c=0, d=0, e=0):\n",
    "    return a + b + c + d + e"
   ]
  },
  {
   "cell_type": "code",
   "execution_count": 82,
   "metadata": {},
   "outputs": [
    {
     "data": {
      "text/plain": [
       "150"
      ]
     },
     "execution_count": 82,
     "metadata": {},
     "output_type": "execute_result"
    }
   ],
   "source": [
    "mysum(10, 20, 30, 40, 50)"
   ]
  },
  {
   "cell_type": "code",
   "execution_count": 83,
   "metadata": {},
   "outputs": [
    {
     "data": {
      "text/plain": [
       "100"
      ]
     },
     "execution_count": 83,
     "metadata": {},
     "output_type": "execute_result"
    }
   ],
   "source": [
    "mysum(10, 20, 30, 40)"
   ]
  },
  {
   "cell_type": "code",
   "execution_count": 84,
   "metadata": {},
   "outputs": [
    {
     "ename": "TypeError",
     "evalue": "mysum() takes from 0 to 5 positional arguments but 6 were given",
     "output_type": "error",
     "traceback": [
      "\u001b[0;31m---------------------------------------------------------------------------\u001b[0m",
      "\u001b[0;31mTypeError\u001b[0m                                 Traceback (most recent call last)",
      "Cell \u001b[0;32mIn [84], line 2\u001b[0m\n\u001b[1;32m      1\u001b[0m \u001b[38;5;66;03m# what if we pass 6 arguments?\u001b[39;00m\n\u001b[0;32m----> 2\u001b[0m \u001b[43mmysum\u001b[49m\u001b[43m(\u001b[49m\u001b[38;5;241;43m10\u001b[39;49m\u001b[43m,\u001b[49m\u001b[43m \u001b[49m\u001b[38;5;241;43m20\u001b[39;49m\u001b[43m,\u001b[49m\u001b[43m \u001b[49m\u001b[38;5;241;43m30\u001b[39;49m\u001b[43m,\u001b[49m\u001b[43m \u001b[49m\u001b[38;5;241;43m40\u001b[39;49m\u001b[43m,\u001b[49m\u001b[43m \u001b[49m\u001b[38;5;241;43m50\u001b[39;49m\u001b[43m \u001b[49m\u001b[43m,\u001b[49m\u001b[38;5;241;43m60\u001b[39;49m\u001b[43m)\u001b[49m\n",
      "\u001b[0;31mTypeError\u001b[0m: mysum() takes from 0 to 5 positional arguments but 6 were given"
     ]
    }
   ],
   "source": [
    "# what if we pass 6 arguments?\n",
    "mysum(10, 20, 30, 40, 50 ,60)"
   ]
  },
  {
   "cell_type": "markdown",
   "metadata": {},
   "source": [
    "# There must be a better way!\n",
    "\n",
    "We can define a special parameter, called `*args`.  This is called \"splat args,\" for historical reasons. The `*` is mandatory, but the name doesn't have to be `args`. (It's traditional to call it that, and the documentation calls it that, too.)\n",
    "\n",
    "`*args` must be the final parameter in our function.  Other parameters can come before it, if we want.\n",
    "\n",
    "`*args` means:"
   ]
  }
 ],
 "metadata": {
  "kernelspec": {
   "display_name": "Python 3 (ipykernel)",
   "language": "python",
   "name": "python3"
  },
  "language_info": {
   "codemirror_mode": {
    "name": "ipython",
    "version": 3
   },
   "file_extension": ".py",
   "mimetype": "text/x-python",
   "name": "python",
   "nbconvert_exporter": "python",
   "pygments_lexer": "ipython3",
   "version": "3.11.1"
  }
 },
 "nbformat": 4,
 "nbformat_minor": 4
}
